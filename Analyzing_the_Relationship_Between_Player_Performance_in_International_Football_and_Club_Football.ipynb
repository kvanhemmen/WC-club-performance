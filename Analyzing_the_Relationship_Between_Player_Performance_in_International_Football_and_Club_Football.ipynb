{
  "nbformat": 4,
  "nbformat_minor": 0,
  "metadata": {
    "kernelspec": {
      "display_name": "Python 3",
      "language": "python",
      "name": "python3"
    },
    "language_info": {
      "codemirror_mode": {
        "name": "ipython",
        "version": 3
      },
      "file_extension": ".py",
      "mimetype": "text/x-python",
      "name": "python",
      "nbconvert_exporter": "python",
      "pygments_lexer": "ipython3",
      "version": "3.7.3"
    },
    "colab": {
      "name": "Analyzing the Relationship Between Player Performance in International Football and Club Football.ipynb",
      "provenance": [],
      "collapsed_sections": [],
      "include_colab_link": true
    }
  },
  "cells": [
    {
      "cell_type": "markdown",
      "metadata": {
        "id": "view-in-github",
        "colab_type": "text"
      },
      "source": [
        "<a href=\"https://colab.research.google.com/github/kvanhemmen/WC-club-performance/blob/master/Analyzing_the_Relationship_Between_Player_Performance_in_International_Football_and_Club_Football.ipynb\" target=\"_parent\"><img src=\"https://colab.research.google.com/assets/colab-badge.svg\" alt=\"Open In Colab\"/></a>"
      ]
    },
    {
      "cell_type": "markdown",
      "metadata": {
        "id": "WXxcZO6OcVTl",
        "colab_type": "text"
      },
      "source": [
        "<center> <h1> Analyzing the Relationship Between Player Performance in International Football and Club Football</h1> </center>\n",
        "<center><h4>Milan Ghosh and Kees van Hemmen</h4></center>\n"
      ]
    },
    {
      "cell_type": "markdown",
      "metadata": {
        "id": "k-BtBggEcVTo",
        "colab_type": "text"
      },
      "source": [
        "<hr style=\"height:2px; border:none; color:black; background-color:black;\">"
      ]
    },
    {
      "cell_type": "markdown",
      "metadata": {
        "id": "aVpuuUpHcVTo",
        "colab_type": "text"
      },
      "source": [
        "#### Executive Summary:"
      ]
    },
    {
      "cell_type": "markdown",
      "metadata": {
        "id": "rGmBRB1o1jHJ",
        "colab_type": "text"
      },
      "source": [
        "In this project, we endeavored to determine whether professional footballers (soccer players) in Europe's top leagues that perform at a high level in International Competitions (like the World Cup and European Championships) continue to perform well for their club teams after said tournaments. We did this because European clubs spend millions on high performing international tournament players each summer, and these purchases are often mistakes. Our hypothesis was that there will be only a small correlation between goal scoring production in the World Cup and goal scoring production in club competition. We first scraped club player data from six of Europe's top seven leagues from the website understat.com for the 2018-19 season. We then used StatsBomb's online Git Repository to obtain event data for the entire 2018 world cup and passed the event data for shots through an expected goals model. We then used various regression techniques (such as simple regression, ridge regression, and support vector machines) to determine whether players with high goal and expected goal tallies have similarly high tallies in club competition. We visualized our data, ran our regressions, cross validated them, and retuned our hyperparameters to obtain optimal results. Ultimately, the Support Vector Machine gave us our best results and our results supported that the correlation between production at the World Cup and production for one's club is extant yet weak."
      ]
    },
    {
      "cell_type": "markdown",
      "metadata": {
        "id": "plx0jneZcVTp",
        "colab_type": "text"
      },
      "source": [
        "<hr style=\"height:2px; border:none; color:black; background-color:black;\">"
      ]
    },
    {
      "cell_type": "markdown",
      "metadata": {
        "id": "TO6geoQecVTq",
        "colab_type": "text"
      },
      "source": [
        "## Outline\n",
        "1. <a href='#1'>INTRODUCTION</a>\n",
        "2. <a href='#2'>METHOD</a>\n",
        "3. <a href='#3'>RESULTS</a>\n",
        "4. <a href='#4'>DISCUSSION</a>"
      ]
    },
    {
      "cell_type": "markdown",
      "metadata": {
        "id": "ljoG5MotcVTr",
        "colab_type": "text"
      },
      "source": [
        "<a id=\"1\"></a>\n",
        "<hr style=\"height:2px; border:none; color:black; background-color:black;\">"
      ]
    },
    {
      "cell_type": "markdown",
      "metadata": {
        "id": "RB0YCSrXcVTs",
        "colab_type": "text"
      },
      "source": [
        "## 1. INTRODUCTION"
      ]
    },
    {
      "cell_type": "markdown",
      "metadata": {
        "id": "iuIrQhjKdgiZ",
        "colab_type": "text"
      },
      "source": [
        "The problem that we wish to address with our project is that European football (soccer) clubs routinely spend millions of Euros on players that perform at a high level in international tournaments like the European championships and the World Cup, yet, despite their high transfer fees, these players do not always perform at the same level for their new clubs once they have been purchased. In the course of this project we hope to determine whether there is a correlation between performance at international tournaments and performance at the club level, and, if so, how strong said correlation is. \n",
        "\n",
        "This problem is worthwhile for one, simple, monetary reason: European football clubs spend millions upon millions of Euros (or Pounds) on World Cup standouts every four years, and this is often to no avail. This is particularly the case in the aftermath of the world record transfer of Brazilian Forward Neymar Jr. during the summer of 2017. The world record fee for a player having previously been the £89 million spent on French midfielder Paul Pogba, Neymar's £198 million fee more than doubled that. The market adjusted almost immediately, and European clubs are spending more and more money each summer as a result. Determining whether or not players who play well at international tournaments are safe investments would go a long way towards optimizing club transfer expenditure.\n",
        "\n",
        "Questions we wish to answer in interpreting our data during this project include: Do the standout players of international tournaments always standout at their clubs in the ensuing season? More specifically, are players that score the most goals or generate the most xG in an international tournament likely to continue to do the same the next season? Are players that score goals in international play likely to contribute to buildup play (measured by xGBuildup and xGChain) more than their non-international-standout counterparts in club play? In terms of technical methology, will Ridge Regression prove to better our model as compared to Simple Regression when considering that the sample sizes of a world cup are so small, and thus so unlikely to generate serious outliers. We hypothesize that high goal tallies and expected goal tallies in international play will have only a weak correlation with high goal and expected goal tallies in club play. We also expect that the correlation with quality in buildup will be even lower. In general, we expect that quality performance in international tournaments is not necessarily indicative of true talent moving forward in club play. We also hypothesize that Ridge Regression will not prove to be a major improvement on Simple Regression in our results."
      ]
    },
    {
      "cell_type": "markdown",
      "metadata": {
        "id": "QDMvoz0scVTt",
        "colab_type": "text"
      },
      "source": [
        "<a id=\"2\"></a>\n",
        "<hr style=\"height:2px; border:none; color:black; background-color:black;\">"
      ]
    },
    {
      "cell_type": "markdown",
      "metadata": {
        "id": "S2TjK0VVcVTu",
        "colab_type": "text"
      },
      "source": [
        "## 2. METHOD"
      ]
    },
    {
      "cell_type": "markdown",
      "metadata": {
        "id": "smQTRIK6cwRs",
        "colab_type": "text"
      },
      "source": [
        "We have pulled data from two sources. The first source we used is the soccer statistics website understat.com. The understat data features player data such as goals, assists, expected goals, and expected assists for their 2018-2019 club league season. We used data from all six leagues that understat offers: The English Premier League, The Spanish La Liga, the German Bundesliga, the Italian Serie A, the French Ligue 1, and the Russian Premier League. This maximized the size of our dataset while simultaneously ensuring that competition quality was similar (these leagues represent six of the top seven leagues in Europe as per UEFA coefficient).\n",
        "\n",
        "The second source we pulled our data from was the StatsBomb Git Repository, which offers free event data for every game of the 2018 World Cup in Russia. Using R (their git repository facilitates the language) we pulled the event data and then isolated it to only shot data. Shot data was then converted to expected goals and goals, and finally merged with the club competition data.\n",
        "\n",
        "The dataset has 2 features (independent variables) and 7 targets (dependent variables). The two independent variables are World Cup goals and World Cup expected goals. Goals are attributed to a player anytime he hits the ball into his opponents net. Expected goals are attributed to a player any time he takes a shot at the opponent goal. For instance, if a player takes a shot that, historically, has a goal probability of 0.04, then his xG total will go up by that amount, regardless of whether or not he scores.\n",
        "\n",
        "The 7 target variables are as follows: Club Goals/90, Club Shots/90, Club expected Goals/90, Club Non-Penalty Goals/90, Club Non-Penalty Expected Goals/90, Club xGChain/90, and Club xGBuildup/90. Each of these statistics is scaled to a per 90 basis so as to prevent players who played significantly more minutes over a club season from appearing better than they truly are. Shots are attributed to a player any time he shoots at goal. Non-Penalty Goals are attributed to a player any time he scores a goal that is not taken from the penalty spot (which occurs when a player on the same player's team is fouled near the goal in the penalty box). Non Penalty-Expected Goals follow the same principle as expected goals while discounting penalties. xGChain is attributed to a player anytime he makes at least one pass in an attack that leads to a shot. The value that is attributed to said player is equal to the goal probability of said shot. xGBuildup represents the same metric but discounts the player who took the shot and the player who made the pass to the player who took the shot.  "
      ]
    },
    {
      "cell_type": "code",
      "metadata": {
        "id": "bDI8AbPUxfyQ",
        "colab_type": "code",
        "colab": {}
      },
      "source": [
        "#Understat Data Scraping:\n",
        "import urllib.request as urllib\n",
        "from bs4 import BeautifulSoup\n",
        "import pandas as pd\n",
        "links = [\"Ligue_1/2018\", \n",
        "         \"La_liga/2018\",\n",
        "         \"EPL/2018\",\n",
        "         \"Bundesliga/2018\",\n",
        "         \"Serie_A/2018\",\n",
        "         \"RFPL/2018\"]\n",
        "understat = \"http://understat.com/league/\"\n",
        "for link in links:\n",
        "    html = urllib.urlopen(understat+link)\n",
        "    soup = BeautifulSoup(html.read())\n",
        "    scripts = soup.find_all(\"script\")\n",
        "    for tag in scripts:\n",
        "        if \"playersData\" in tag.get_text():\n",
        "            data = tag.get_text()\n",
        "            data = data[32:-4]\n",
        "    decoded_data = bytes(data, 'utf-8').decode('unicode_escape')\n",
        "    df = pd.read_json(decoded_data)\n",
        "    league, part, year = link.partition(\"/\")\n",
        "    df.to_csv(\"res/\" + league +\"_\" + year +\".csv\")"
      ],
      "execution_count": 0,
      "outputs": []
    },
    {
      "cell_type": "markdown",
      "metadata": {
        "id": "t5MN44c8cVTv",
        "colab_type": "text"
      },
      "source": [
        "### 2.2. Variables"
      ]
    },
    {
      "cell_type": "markdown",
      "metadata": {
        "id": "54RQ9to54c5N",
        "colab_type": "text"
      },
      "source": [
        "Our independent variables are the data from the 2018 World Cup. This data includes goals and expected goals for every player that took part in the tournament as well as one of the six leagues we are analyzing during the ensuing 2018-19 season. We will be calculating the expected goals using the shot data from the World Cup by a shot's location on the field. Our dependent variables are the data from the player's data in their 2018-2019 club league season. This includes shots, goals, non-penalty goals, xG, npxG, xGChain, and xGBuildup. Our feature variables are identical to our independent variables and our target variables are identical to our depedent variables. We are looking to determine the relationship between players who do well in the World Cup and their performance for their club teams the following season."
      ]
    },
    {
      "cell_type": "markdown",
      "metadata": {
        "id": "850R8kUbcVTw",
        "colab_type": "text"
      },
      "source": [
        "### 2.3. Data Analysis\n"
      ]
    },
    {
      "cell_type": "markdown",
      "metadata": {
        "id": "obFmskC6Afzk",
        "colab_type": "text"
      },
      "source": [
        "Our dataset features continuous data, and so we will be running regressions upon it to obtain insights into the dataset. We intend to predict a player's goalscoring output in club competition (measured in shots/90, goals/90, npG/90, xG/90, and npxG/90) using their goalscoring output in international competition (measured in goals and xG). We also intend to predict a player's quality in possession in club play (measured using xGChain and xGBuildup) using their goalscoring output in international play. We do not yet know which variables we will be running the regressions on specifically as we intend to operate only on those that demonstrate the highest correlations pre-regression.\n",
        "\n",
        "This is a supervised machine learning problem because we already have the target data that we are attempting to predict. The learning task is both Simple and Multiple Linear Regression, as we will be using both single and multiple feature variables at various points during the regression so as to optimize results. We intend to use the Simple, Ridge, KNeighbors, Lasso, and SVR Regression algorithms to analyze our model. We will use Simple so as to give ourselves a basic regression model that provided a baseline for various improvements. Ridge will be used to smooth outliers, though, given that the World Cup has such a small sample size we don't expect highly problematic outliers (though small samples generate high variance, it is difficult for outlier values to accumulate). KNeighbors will be used to analyze each player based on its most similar players by the involved variables, thus increasing the number of datapoints and therefore model complexity. Lasso will be used to minimize coefficients and prevent the overweighting of outliers. SVR will increase model complexity by executing linear regression numerous times on various axes through the datapoints."
      ]
    },
    {
      "cell_type": "markdown",
      "metadata": {
        "id": "-wosTBK3cVTx",
        "colab_type": "text"
      },
      "source": [
        "<a id=\"3\"></a>\n",
        "<hr style=\"height:2px; border:none; color:black; background-color:black;\">"
      ]
    },
    {
      "cell_type": "markdown",
      "metadata": {
        "id": "7VGJwlOwcVTy",
        "colab_type": "text"
      },
      "source": [
        "## 3. RESULTS"
      ]
    },
    {
      "cell_type": "markdown",
      "metadata": {
        "id": "llMAPe1scVTy",
        "colab_type": "text"
      },
      "source": [
        "### 3.1. Data Wrangling\n"
      ]
    },
    {
      "cell_type": "code",
      "metadata": {
        "id": "XRNgX0nglZ5g",
        "colab_type": "code",
        "colab": {}
      },
      "source": [
        "import pandas as pd\n",
        "git_link = \"https://raw.githubusercontent.com/mghosh13/Soccer-Project/master/\"\n",
        "spain = pd.read_csv(git_link + \"res/La_liga_2018.csv\").drop(columns=\"Unnamed: 0\")\n",
        "england = pd.read_csv(git_link + \"res/EPL_2018.csv\").drop(columns=\"Unnamed: 0\")\n",
        "france = pd.read_csv(git_link + \"res/Ligue_1_2018.csv\").drop(columns=\"Unnamed: 0\")\n",
        "germany = pd.read_csv(git_link + \"res/Bundesliga_2018.csv\").drop(columns=\"Unnamed: 0\")\n",
        "italy = pd.read_csv(git_link + \"res/Serie_A_2018.csv\").drop(columns=\"Unnamed: 0\")\n",
        "russia = pd.read_csv(git_link + \"res/RFPL_2018.csv\").drop(columns=\"Unnamed: 0\")\n",
        "spain[\"League\"] = \"La Liga\"\n",
        "england[\"League\"] = \"English Premier League\"\n",
        "france[\"League\"] = \"Ligue 1\"\n",
        "germany[\"League\"] = \"Bundesliga\"\n",
        "italy[\"League\"] = \"Serie A\"\n",
        "russia[\"League\"] = \"Russian Premier League\""
      ],
      "execution_count": 0,
      "outputs": []
    },
    {
      "cell_type": "code",
      "metadata": {
        "id": "P_3xiLTKl2oh",
        "colab_type": "code",
        "colab": {}
      },
      "source": [
        "club = pd.concat(objs=[spain, england, france, germany, italy, russia])\n",
        "#Fix the index so it doesn't restart at 0 when new league\n",
        "club = club.set_index(\"player_name\")\n",
        "club = club.reset_index()"
      ],
      "execution_count": 0,
      "outputs": []
    },
    {
      "cell_type": "code",
      "metadata": {
        "id": "rxo8Yajnl6ox",
        "colab_type": "code",
        "outputId": "c7ecab1e-9ad4-4bb4-caeb-2237d806947f",
        "colab": {
          "base_uri": "https://localhost:8080/",
          "height": 693
        }
      },
      "source": [
        "#Need to find errors in the player_name column\n",
        "club[club[\"player_name\"].str.contains(\"&#039\")]"
      ],
      "execution_count": 0,
      "outputs": [
        {
          "output_type": "execute_result",
          "data": {
            "text/html": [
              "<div>\n",
              "<style scoped>\n",
              "    .dataframe tbody tr th:only-of-type {\n",
              "        vertical-align: middle;\n",
              "    }\n",
              "\n",
              "    .dataframe tbody tr th {\n",
              "        vertical-align: top;\n",
              "    }\n",
              "\n",
              "    .dataframe thead th {\n",
              "        text-align: right;\n",
              "    }\n",
              "</style>\n",
              "<table border=\"1\" class=\"dataframe\">\n",
              "  <thead>\n",
              "    <tr style=\"text-align: right;\">\n",
              "      <th></th>\n",
              "      <th>player_name</th>\n",
              "      <th>assists</th>\n",
              "      <th>games</th>\n",
              "      <th>goals</th>\n",
              "      <th>id</th>\n",
              "      <th>key_passes</th>\n",
              "      <th>npg</th>\n",
              "      <th>npxG</th>\n",
              "      <th>position</th>\n",
              "      <th>red_cards</th>\n",
              "      <th>shots</th>\n",
              "      <th>team_title</th>\n",
              "      <th>time</th>\n",
              "      <th>xA</th>\n",
              "      <th>xG</th>\n",
              "      <th>xGBuildup</th>\n",
              "      <th>xGChain</th>\n",
              "      <th>yellow_cards</th>\n",
              "      <th>League</th>\n",
              "    </tr>\n",
              "  </thead>\n",
              "  <tbody>\n",
              "    <tr>\n",
              "      <th>610</th>\n",
              "      <td>N&amp;#039;Golo Kanté</td>\n",
              "      <td>4</td>\n",
              "      <td>36</td>\n",
              "      <td>4</td>\n",
              "      <td>751</td>\n",
              "      <td>46</td>\n",
              "      <td>4</td>\n",
              "      <td>3.033728</td>\n",
              "      <td>M</td>\n",
              "      <td>0</td>\n",
              "      <td>29</td>\n",
              "      <td>Chelsea</td>\n",
              "      <td>3103</td>\n",
              "      <td>3.732989</td>\n",
              "      <td>3.033728</td>\n",
              "      <td>12.484975</td>\n",
              "      <td>17.044977</td>\n",
              "      <td>3</td>\n",
              "      <td>English Premier League</td>\n",
              "    </tr>\n",
              "    <tr>\n",
              "      <th>1049</th>\n",
              "      <td>M&amp;#039;Baye Niang</td>\n",
              "      <td>4</td>\n",
              "      <td>29</td>\n",
              "      <td>11</td>\n",
              "      <td>1126</td>\n",
              "      <td>11</td>\n",
              "      <td>9</td>\n",
              "      <td>7.203044</td>\n",
              "      <td>F M S</td>\n",
              "      <td>0</td>\n",
              "      <td>65</td>\n",
              "      <td>Rennes</td>\n",
              "      <td>1799</td>\n",
              "      <td>2.023467</td>\n",
              "      <td>8.723234</td>\n",
              "      <td>1.046131</td>\n",
              "      <td>7.940210</td>\n",
              "      <td>5</td>\n",
              "      <td>Ligue 1</td>\n",
              "    </tr>\n",
              "    <tr>\n",
              "      <th>1118</th>\n",
              "      <td>Clinton N&amp;#039;Jie</td>\n",
              "      <td>2</td>\n",
              "      <td>17</td>\n",
              "      <td>3</td>\n",
              "      <td>960</td>\n",
              "      <td>9</td>\n",
              "      <td>3</td>\n",
              "      <td>1.204920</td>\n",
              "      <td>F M S</td>\n",
              "      <td>0</td>\n",
              "      <td>7</td>\n",
              "      <td>Marseille</td>\n",
              "      <td>343</td>\n",
              "      <td>0.981855</td>\n",
              "      <td>1.204920</td>\n",
              "      <td>0.611300</td>\n",
              "      <td>2.724176</td>\n",
              "      <td>0</td>\n",
              "      <td>Ligue 1</td>\n",
              "    </tr>\n",
              "    <tr>\n",
              "      <th>1252</th>\n",
              "      <td>Yeni N&amp;#039;Gbakoto</td>\n",
              "      <td>0</td>\n",
              "      <td>15</td>\n",
              "      <td>1</td>\n",
              "      <td>4738</td>\n",
              "      <td>10</td>\n",
              "      <td>1</td>\n",
              "      <td>1.295693</td>\n",
              "      <td>M S</td>\n",
              "      <td>0</td>\n",
              "      <td>18</td>\n",
              "      <td>Guingamp</td>\n",
              "      <td>551</td>\n",
              "      <td>0.520348</td>\n",
              "      <td>1.295693</td>\n",
              "      <td>0.207640</td>\n",
              "      <td>1.352356</td>\n",
              "      <td>0</td>\n",
              "      <td>Ligue 1</td>\n",
              "    </tr>\n",
              "    <tr>\n",
              "      <th>1296</th>\n",
              "      <td>Yann M&amp;#039;Vila</td>\n",
              "      <td>1</td>\n",
              "      <td>37</td>\n",
              "      <td>0</td>\n",
              "      <td>732</td>\n",
              "      <td>24</td>\n",
              "      <td>0</td>\n",
              "      <td>0.415423</td>\n",
              "      <td>M</td>\n",
              "      <td>1</td>\n",
              "      <td>14</td>\n",
              "      <td>Saint-Etienne</td>\n",
              "      <td>3264</td>\n",
              "      <td>0.887743</td>\n",
              "      <td>0.415423</td>\n",
              "      <td>10.442372</td>\n",
              "      <td>11.551751</td>\n",
              "      <td>5</td>\n",
              "      <td>Ligue 1</td>\n",
              "    </tr>\n",
              "    <tr>\n",
              "      <th>1382</th>\n",
              "      <td>Kevin N&amp;#039;Doram</td>\n",
              "      <td>0</td>\n",
              "      <td>4</td>\n",
              "      <td>0</td>\n",
              "      <td>3657</td>\n",
              "      <td>0</td>\n",
              "      <td>0</td>\n",
              "      <td>0.077560</td>\n",
              "      <td>D S</td>\n",
              "      <td>0</td>\n",
              "      <td>1</td>\n",
              "      <td>Monaco</td>\n",
              "      <td>192</td>\n",
              "      <td>0.000000</td>\n",
              "      <td>0.077560</td>\n",
              "      <td>0.683682</td>\n",
              "      <td>0.683682</td>\n",
              "      <td>2</td>\n",
              "      <td>Ligue 1</td>\n",
              "    </tr>\n",
              "    <tr>\n",
              "      <th>1488</th>\n",
              "      <td>Stanley N&amp;#039;Soki</td>\n",
              "      <td>0</td>\n",
              "      <td>12</td>\n",
              "      <td>0</td>\n",
              "      <td>6436</td>\n",
              "      <td>3</td>\n",
              "      <td>0</td>\n",
              "      <td>0.000000</td>\n",
              "      <td>D S</td>\n",
              "      <td>0</td>\n",
              "      <td>0</td>\n",
              "      <td>Paris Saint Germain</td>\n",
              "      <td>698</td>\n",
              "      <td>0.112670</td>\n",
              "      <td>0.000000</td>\n",
              "      <td>2.508031</td>\n",
              "      <td>2.589706</td>\n",
              "      <td>2</td>\n",
              "      <td>Ligue 1</td>\n",
              "    </tr>\n",
              "    <tr>\n",
              "      <th>1583</th>\n",
              "      <td>Nathan N&amp;#039;Goumou Minpol</td>\n",
              "      <td>0</td>\n",
              "      <td>1</td>\n",
              "      <td>0</td>\n",
              "      <td>7612</td>\n",
              "      <td>0</td>\n",
              "      <td>0</td>\n",
              "      <td>0.044724</td>\n",
              "      <td>F</td>\n",
              "      <td>0</td>\n",
              "      <td>1</td>\n",
              "      <td>Toulouse</td>\n",
              "      <td>72</td>\n",
              "      <td>0.000000</td>\n",
              "      <td>0.044724</td>\n",
              "      <td>0.062088</td>\n",
              "      <td>0.106811</td>\n",
              "      <td>0</td>\n",
              "      <td>Ligue 1</td>\n",
              "    </tr>\n",
              "    <tr>\n",
              "      <th>2209</th>\n",
              "      <td>Danilo D&amp;#039;Ambrosio</td>\n",
              "      <td>5</td>\n",
              "      <td>30</td>\n",
              "      <td>2</td>\n",
              "      <td>1523</td>\n",
              "      <td>34</td>\n",
              "      <td>2</td>\n",
              "      <td>2.154351</td>\n",
              "      <td>D M S</td>\n",
              "      <td>0</td>\n",
              "      <td>16</td>\n",
              "      <td>Inter</td>\n",
              "      <td>2582</td>\n",
              "      <td>5.704240</td>\n",
              "      <td>2.154351</td>\n",
              "      <td>10.012069</td>\n",
              "      <td>14.445313</td>\n",
              "      <td>6</td>\n",
              "      <td>Serie A</td>\n",
              "    </tr>\n",
              "    <tr>\n",
              "      <th>2222</th>\n",
              "      <td>Nicolas N&amp;#039;Koulou</td>\n",
              "      <td>0</td>\n",
              "      <td>36</td>\n",
              "      <td>2</td>\n",
              "      <td>3387</td>\n",
              "      <td>4</td>\n",
              "      <td>2</td>\n",
              "      <td>1.179021</td>\n",
              "      <td>D</td>\n",
              "      <td>1</td>\n",
              "      <td>7</td>\n",
              "      <td>Torino</td>\n",
              "      <td>3216</td>\n",
              "      <td>0.084285</td>\n",
              "      <td>1.179021</td>\n",
              "      <td>4.376658</td>\n",
              "      <td>4.376658</td>\n",
              "      <td>6</td>\n",
              "      <td>Serie A</td>\n",
              "    </tr>\n",
              "    <tr>\n",
              "      <th>2267</th>\n",
              "      <td>Cristian Dell&amp;#039;Orco</td>\n",
              "      <td>1</td>\n",
              "      <td>15</td>\n",
              "      <td>1</td>\n",
              "      <td>1476</td>\n",
              "      <td>4</td>\n",
              "      <td>1</td>\n",
              "      <td>0.686930</td>\n",
              "      <td>D M S</td>\n",
              "      <td>0</td>\n",
              "      <td>5</td>\n",
              "      <td>Empoli,Sassuolo</td>\n",
              "      <td>1145</td>\n",
              "      <td>0.620158</td>\n",
              "      <td>0.686930</td>\n",
              "      <td>2.189017</td>\n",
              "      <td>2.718930</td>\n",
              "      <td>1</td>\n",
              "      <td>Serie A</td>\n",
              "    </tr>\n",
              "    <tr>\n",
              "      <th>2292</th>\n",
              "      <td>Steven N&amp;#039;Zonzi</td>\n",
              "      <td>2</td>\n",
              "      <td>30</td>\n",
              "      <td>1</td>\n",
              "      <td>2413</td>\n",
              "      <td>24</td>\n",
              "      <td>1</td>\n",
              "      <td>2.011138</td>\n",
              "      <td>M S</td>\n",
              "      <td>0</td>\n",
              "      <td>22</td>\n",
              "      <td>Roma</td>\n",
              "      <td>2619</td>\n",
              "      <td>1.936493</td>\n",
              "      <td>2.011138</td>\n",
              "      <td>11.387357</td>\n",
              "      <td>13.432210</td>\n",
              "      <td>7</td>\n",
              "      <td>Serie A</td>\n",
              "    </tr>\n",
              "    <tr>\n",
              "      <th>2427</th>\n",
              "      <td>Marco D&amp;#039;Alessandro</td>\n",
              "      <td>2</td>\n",
              "      <td>24</td>\n",
              "      <td>0</td>\n",
              "      <td>1502</td>\n",
              "      <td>21</td>\n",
              "      <td>0</td>\n",
              "      <td>1.045808</td>\n",
              "      <td>D M S</td>\n",
              "      <td>0</td>\n",
              "      <td>11</td>\n",
              "      <td>Udinese</td>\n",
              "      <td>1500</td>\n",
              "      <td>1.490708</td>\n",
              "      <td>1.045808</td>\n",
              "      <td>1.808716</td>\n",
              "      <td>3.870303</td>\n",
              "      <td>3</td>\n",
              "      <td>Serie A</td>\n",
              "    </tr>\n",
              "  </tbody>\n",
              "</table>\n",
              "</div>"
            ],
            "text/plain": [
              "                      player_name  ...                  League\n",
              "610             N&#039;Golo Kanté  ...  English Premier League\n",
              "1049            M&#039;Baye Niang  ...                 Ligue 1\n",
              "1118           Clinton N&#039;Jie  ...                 Ligue 1\n",
              "1252          Yeni N&#039;Gbakoto  ...                 Ligue 1\n",
              "1296             Yann M&#039;Vila  ...                 Ligue 1\n",
              "1382           Kevin N&#039;Doram  ...                 Ligue 1\n",
              "1488          Stanley N&#039;Soki  ...                 Ligue 1\n",
              "1583  Nathan N&#039;Goumou Minpol  ...                 Ligue 1\n",
              "2209       Danilo D&#039;Ambrosio  ...                 Serie A\n",
              "2222        Nicolas N&#039;Koulou  ...                 Serie A\n",
              "2267      Cristian Dell&#039;Orco  ...                 Serie A\n",
              "2292          Steven N&#039;Zonzi  ...                 Serie A\n",
              "2427      Marco D&#039;Alessandro  ...                 Serie A\n",
              "\n",
              "[13 rows x 19 columns]"
            ]
          },
          "metadata": {
            "tags": []
          },
          "execution_count": 29
        }
      ]
    },
    {
      "cell_type": "code",
      "metadata": {
        "id": "ftrc-rBil80h",
        "colab_type": "code",
        "colab": {}
      },
      "source": [
        "#Find and replace '&#039;' to a single apostrophe\n",
        "#temp_club = club.replace(to_replace = \"*\\&#039;*\", value = \"jk\")\n",
        "import html\n",
        "html.unescape(\"M&#039;Baye Niang\")\n",
        "club[\"player_name\"] = club[\"player_name\"].apply(html.unescape)"
      ],
      "execution_count": 0,
      "outputs": []
    },
    {
      "cell_type": "code",
      "metadata": {
        "id": "zpmHYYVjmIXA",
        "colab_type": "code",
        "colab": {}
      },
      "source": [
        "#Drop a bunch of unnecessary columns: id(specific to understat website), position, yellow and red cards,\n",
        "club = club.drop(columns = [\"id\", \"position\", \"red_cards\", \"yellow_cards\", \"key_passes\", \"assists\", \"xA\"])"
      ],
      "execution_count": 0,
      "outputs": []
    },
    {
      "cell_type": "code",
      "metadata": {
        "id": "dLqcwTinmKtX",
        "colab_type": "code",
        "outputId": "7716fb6a-3a62-44dc-f66d-7a2b3f0480d8",
        "colab": {
          "base_uri": "https://localhost:8080/",
          "height": 204
        }
      },
      "source": [
        "club.head()"
      ],
      "execution_count": 0,
      "outputs": [
        {
          "output_type": "execute_result",
          "data": {
            "text/html": [
              "<div>\n",
              "<style scoped>\n",
              "    .dataframe tbody tr th:only-of-type {\n",
              "        vertical-align: middle;\n",
              "    }\n",
              "\n",
              "    .dataframe tbody tr th {\n",
              "        vertical-align: top;\n",
              "    }\n",
              "\n",
              "    .dataframe thead th {\n",
              "        text-align: right;\n",
              "    }\n",
              "</style>\n",
              "<table border=\"1\" class=\"dataframe\">\n",
              "  <thead>\n",
              "    <tr style=\"text-align: right;\">\n",
              "      <th></th>\n",
              "      <th>player_name</th>\n",
              "      <th>games</th>\n",
              "      <th>goals</th>\n",
              "      <th>npg</th>\n",
              "      <th>npxG</th>\n",
              "      <th>shots</th>\n",
              "      <th>team_title</th>\n",
              "      <th>time</th>\n",
              "      <th>xG</th>\n",
              "      <th>xGBuildup</th>\n",
              "      <th>xGChain</th>\n",
              "      <th>League</th>\n",
              "    </tr>\n",
              "  </thead>\n",
              "  <tbody>\n",
              "    <tr>\n",
              "      <th>0</th>\n",
              "      <td>Lionel Messi</td>\n",
              "      <td>34</td>\n",
              "      <td>36</td>\n",
              "      <td>32</td>\n",
              "      <td>22.280909</td>\n",
              "      <td>170</td>\n",
              "      <td>Barcelona</td>\n",
              "      <td>2704</td>\n",
              "      <td>25.997169</td>\n",
              "      <td>10.698799</td>\n",
              "      <td>38.459877</td>\n",
              "      <td>La Liga</td>\n",
              "    </tr>\n",
              "    <tr>\n",
              "      <th>1</th>\n",
              "      <td>Luis Suárez</td>\n",
              "      <td>33</td>\n",
              "      <td>21</td>\n",
              "      <td>17</td>\n",
              "      <td>21.421453</td>\n",
              "      <td>112</td>\n",
              "      <td>Barcelona</td>\n",
              "      <td>2832</td>\n",
              "      <td>24.394436</td>\n",
              "      <td>12.378092</td>\n",
              "      <td>36.808274</td>\n",
              "      <td>La Liga</td>\n",
              "    </tr>\n",
              "    <tr>\n",
              "      <th>2</th>\n",
              "      <td>Karim Benzema</td>\n",
              "      <td>36</td>\n",
              "      <td>21</td>\n",
              "      <td>18</td>\n",
              "      <td>16.439501</td>\n",
              "      <td>104</td>\n",
              "      <td>Real Madrid</td>\n",
              "      <td>2972</td>\n",
              "      <td>18.669334</td>\n",
              "      <td>8.029115</td>\n",
              "      <td>27.201731</td>\n",
              "      <td>La Liga</td>\n",
              "    </tr>\n",
              "    <tr>\n",
              "      <th>3</th>\n",
              "      <td>Iago Aspas</td>\n",
              "      <td>27</td>\n",
              "      <td>20</td>\n",
              "      <td>15</td>\n",
              "      <td>8.753908</td>\n",
              "      <td>70</td>\n",
              "      <td>Celta Vigo</td>\n",
              "      <td>2268</td>\n",
              "      <td>12.470296</td>\n",
              "      <td>5.864634</td>\n",
              "      <td>18.573875</td>\n",
              "      <td>La Liga</td>\n",
              "    </tr>\n",
              "    <tr>\n",
              "      <th>4</th>\n",
              "      <td>Cristhian Stuani</td>\n",
              "      <td>32</td>\n",
              "      <td>19</td>\n",
              "      <td>14</td>\n",
              "      <td>10.686555</td>\n",
              "      <td>79</td>\n",
              "      <td>Girona</td>\n",
              "      <td>2736</td>\n",
              "      <td>14.402688</td>\n",
              "      <td>4.393606</td>\n",
              "      <td>12.934034</td>\n",
              "      <td>La Liga</td>\n",
              "    </tr>\n",
              "  </tbody>\n",
              "</table>\n",
              "</div>"
            ],
            "text/plain": [
              "        player_name  games  goals  ...  xGBuildup    xGChain   League\n",
              "0      Lionel Messi     34     36  ...  10.698799  38.459877  La Liga\n",
              "1       Luis Suárez     33     21  ...  12.378092  36.808274  La Liga\n",
              "2     Karim Benzema     36     21  ...   8.029115  27.201731  La Liga\n",
              "3        Iago Aspas     27     20  ...   5.864634  18.573875  La Liga\n",
              "4  Cristhian Stuani     32     19  ...   4.393606  12.934034  La Liga\n",
              "\n",
              "[5 rows x 12 columns]"
            ]
          },
          "metadata": {
            "tags": []
          },
          "execution_count": 32
        }
      ]
    },
    {
      "cell_type": "code",
      "metadata": {
        "id": "RwQf8IycmNXt",
        "colab_type": "code",
        "outputId": "8ebd633f-778a-4c2c-f448-e01a6e01e52b",
        "colab": {
          "base_uri": "https://localhost:8080/",
          "height": 255
        }
      },
      "source": [
        "#Standardize columns to be 'per-90 minutes' to see efficiency and allow for players who did not play as many games\n",
        "# All the statistics that have to be changed to 'per 90 minutes'\n",
        "stats = [\"goals\", \"npg\", \"npxG\", \"shots\", \"xG\", \"xGBuildup\", \"xGChain\"]\n",
        "#Create a new column for the new stats per 90 mins, and then drop the old stats\n",
        "for stat in stats:\n",
        "    new_name = stat + \" per 90 mins\"\n",
        "    club[new_name] = club[stat] / club[\"time\"] * 90\n",
        "club = club.drop(columns = stats)\n",
        "club.head()\n",
        "#club.to_csv(\"res/2018Club.csv\", index = False)"
      ],
      "execution_count": 0,
      "outputs": [
        {
          "output_type": "execute_result",
          "data": {
            "text/html": [
              "<div>\n",
              "<style scoped>\n",
              "    .dataframe tbody tr th:only-of-type {\n",
              "        vertical-align: middle;\n",
              "    }\n",
              "\n",
              "    .dataframe tbody tr th {\n",
              "        vertical-align: top;\n",
              "    }\n",
              "\n",
              "    .dataframe thead th {\n",
              "        text-align: right;\n",
              "    }\n",
              "</style>\n",
              "<table border=\"1\" class=\"dataframe\">\n",
              "  <thead>\n",
              "    <tr style=\"text-align: right;\">\n",
              "      <th></th>\n",
              "      <th>player_name</th>\n",
              "      <th>games</th>\n",
              "      <th>team_title</th>\n",
              "      <th>time</th>\n",
              "      <th>League</th>\n",
              "      <th>goals per 90 mins</th>\n",
              "      <th>npg per 90 mins</th>\n",
              "      <th>npxG per 90 mins</th>\n",
              "      <th>shots per 90 mins</th>\n",
              "      <th>xG per 90 mins</th>\n",
              "      <th>xGBuildup per 90 mins</th>\n",
              "      <th>xGChain per 90 mins</th>\n",
              "    </tr>\n",
              "  </thead>\n",
              "  <tbody>\n",
              "    <tr>\n",
              "      <th>0</th>\n",
              "      <td>Lionel Messi</td>\n",
              "      <td>34</td>\n",
              "      <td>Barcelona</td>\n",
              "      <td>2704</td>\n",
              "      <td>La Liga</td>\n",
              "      <td>1.198225</td>\n",
              "      <td>1.065089</td>\n",
              "      <td>0.741598</td>\n",
              "      <td>5.658284</td>\n",
              "      <td>0.865290</td>\n",
              "      <td>0.356099</td>\n",
              "      <td>1.280099</td>\n",
              "    </tr>\n",
              "    <tr>\n",
              "      <th>1</th>\n",
              "      <td>Luis Suárez</td>\n",
              "      <td>33</td>\n",
              "      <td>Barcelona</td>\n",
              "      <td>2832</td>\n",
              "      <td>La Liga</td>\n",
              "      <td>0.667373</td>\n",
              "      <td>0.540254</td>\n",
              "      <td>0.680767</td>\n",
              "      <td>3.559322</td>\n",
              "      <td>0.775247</td>\n",
              "      <td>0.393372</td>\n",
              "      <td>1.169754</td>\n",
              "    </tr>\n",
              "    <tr>\n",
              "      <th>2</th>\n",
              "      <td>Karim Benzema</td>\n",
              "      <td>36</td>\n",
              "      <td>Real Madrid</td>\n",
              "      <td>2972</td>\n",
              "      <td>La Liga</td>\n",
              "      <td>0.635935</td>\n",
              "      <td>0.545087</td>\n",
              "      <td>0.497831</td>\n",
              "      <td>3.149394</td>\n",
              "      <td>0.565357</td>\n",
              "      <td>0.243143</td>\n",
              "      <td>0.823740</td>\n",
              "    </tr>\n",
              "    <tr>\n",
              "      <th>3</th>\n",
              "      <td>Iago Aspas</td>\n",
              "      <td>27</td>\n",
              "      <td>Celta Vigo</td>\n",
              "      <td>2268</td>\n",
              "      <td>La Liga</td>\n",
              "      <td>0.793651</td>\n",
              "      <td>0.595238</td>\n",
              "      <td>0.347377</td>\n",
              "      <td>2.777778</td>\n",
              "      <td>0.494853</td>\n",
              "      <td>0.232724</td>\n",
              "      <td>0.737059</td>\n",
              "    </tr>\n",
              "    <tr>\n",
              "      <th>4</th>\n",
              "      <td>Cristhian Stuani</td>\n",
              "      <td>32</td>\n",
              "      <td>Girona</td>\n",
              "      <td>2736</td>\n",
              "      <td>La Liga</td>\n",
              "      <td>0.625000</td>\n",
              "      <td>0.460526</td>\n",
              "      <td>0.351531</td>\n",
              "      <td>2.598684</td>\n",
              "      <td>0.473773</td>\n",
              "      <td>0.144527</td>\n",
              "      <td>0.425462</td>\n",
              "    </tr>\n",
              "  </tbody>\n",
              "</table>\n",
              "</div>"
            ],
            "text/plain": [
              "        player_name  games  ... xGBuildup per 90 mins  xGChain per 90 mins\n",
              "0      Lionel Messi     34  ...              0.356099             1.280099\n",
              "1       Luis Suárez     33  ...              0.393372             1.169754\n",
              "2     Karim Benzema     36  ...              0.243143             0.823740\n",
              "3        Iago Aspas     27  ...              0.232724             0.737059\n",
              "4  Cristhian Stuani     32  ...              0.144527             0.425462\n",
              "\n",
              "[5 rows x 12 columns]"
            ]
          },
          "metadata": {
            "tags": []
          },
          "execution_count": 33
        }
      ]
    },
    {
      "cell_type": "code",
      "metadata": {
        "id": "n-IROXrYmYCI",
        "colab_type": "code",
        "outputId": "5521471e-3378-411d-c348-91ac93c139cf",
        "colab": {
          "base_uri": "https://localhost:8080/",
          "height": 204
        }
      },
      "source": [
        "# World Cup Data was scraped using R and then committed to a CSV. The R file was submitted with the rest of the project\n",
        "# and can be seen in the blackboard submission for grading.\n",
        "# The following is the further data cleaning that was done in python.\n",
        "worldcup = pd.read_csv(\"https://raw.githubusercontent.com/mghosh13/Soccer-Project/master/res/wcshots%202.csv\")\n",
        "worldcup.head()"
      ],
      "execution_count": 0,
      "outputs": [
        {
          "output_type": "execute_result",
          "data": {
            "text/html": [
              "<div>\n",
              "<style scoped>\n",
              "    .dataframe tbody tr th:only-of-type {\n",
              "        vertical-align: middle;\n",
              "    }\n",
              "\n",
              "    .dataframe tbody tr th {\n",
              "        vertical-align: top;\n",
              "    }\n",
              "\n",
              "    .dataframe thead th {\n",
              "        text-align: right;\n",
              "    }\n",
              "</style>\n",
              "<table border=\"1\" class=\"dataframe\">\n",
              "  <thead>\n",
              "    <tr style=\"text-align: right;\">\n",
              "      <th></th>\n",
              "      <th>Unnamed: 0</th>\n",
              "      <th>location</th>\n",
              "      <th>type.name</th>\n",
              "      <th>player.name</th>\n",
              "      <th>shot.outcome.name</th>\n",
              "    </tr>\n",
              "  </thead>\n",
              "  <tbody>\n",
              "    <tr>\n",
              "      <th>0</th>\n",
              "      <td>1</td>\n",
              "      <td>103, 21</td>\n",
              "      <td>Shot</td>\n",
              "      <td>Yasir Gharsan Al Shahrani</td>\n",
              "      <td>Blocked</td>\n",
              "    </tr>\n",
              "    <tr>\n",
              "      <th>1</th>\n",
              "      <td>2</td>\n",
              "      <td>111, 52</td>\n",
              "      <td>Shot</td>\n",
              "      <td>Aleksandr Samedov</td>\n",
              "      <td>Blocked</td>\n",
              "    </tr>\n",
              "    <tr>\n",
              "      <th>2</th>\n",
              "      <td>3</td>\n",
              "      <td>107, 26</td>\n",
              "      <td>Shot</td>\n",
              "      <td>Yuri Zhirkov</td>\n",
              "      <td>Blocked</td>\n",
              "    </tr>\n",
              "    <tr>\n",
              "      <th>3</th>\n",
              "      <td>4</td>\n",
              "      <td>106, 49</td>\n",
              "      <td>Shot</td>\n",
              "      <td>Alan Dzagoev</td>\n",
              "      <td>Blocked</td>\n",
              "    </tr>\n",
              "    <tr>\n",
              "      <th>4</th>\n",
              "      <td>5</td>\n",
              "      <td>112, 47</td>\n",
              "      <td>Shot</td>\n",
              "      <td>Yury Gazinskiy</td>\n",
              "      <td>Goal</td>\n",
              "    </tr>\n",
              "  </tbody>\n",
              "</table>\n",
              "</div>"
            ],
            "text/plain": [
              "   Unnamed: 0 location type.name                player.name shot.outcome.name\n",
              "0           1  103, 21      Shot  Yasir Gharsan Al Shahrani           Blocked\n",
              "1           2  111, 52      Shot          Aleksandr Samedov           Blocked\n",
              "2           3  107, 26      Shot               Yuri Zhirkov           Blocked\n",
              "3           4  106, 49      Shot               Alan Dzagoev           Blocked\n",
              "4           5  112, 47      Shot             Yury Gazinskiy              Goal"
            ]
          },
          "metadata": {
            "tags": []
          },
          "execution_count": 35
        }
      ]
    },
    {
      "cell_type": "code",
      "metadata": {
        "id": "XgW3U7Y6nXfm",
        "colab_type": "code",
        "outputId": "ba1bca36-fa8e-4e70-9a82-ffa568a59504",
        "colab": {
          "base_uri": "https://localhost:8080/",
          "height": 204
        }
      },
      "source": [
        "coords = worldcup[\"location\"].str.split(\", \")\n",
        "i = 0\n",
        "for coord in coords:\n",
        "    coords[i] = coord[0]\n",
        "    i += 1\n",
        "worldcup[\"x\"] = coords\n",
        "coords2 = worldcup[\"location\"].str.split(\", \")\n",
        "k = 0\n",
        "for coord in coords2:\n",
        "    coords2[k] = coord[1]\n",
        "    k += 1\n",
        "worldcup[\"y\"] = coords2\n",
        "worldcup.head()"
      ],
      "execution_count": 0,
      "outputs": [
        {
          "output_type": "execute_result",
          "data": {
            "text/html": [
              "<div>\n",
              "<style scoped>\n",
              "    .dataframe tbody tr th:only-of-type {\n",
              "        vertical-align: middle;\n",
              "    }\n",
              "\n",
              "    .dataframe tbody tr th {\n",
              "        vertical-align: top;\n",
              "    }\n",
              "\n",
              "    .dataframe thead th {\n",
              "        text-align: right;\n",
              "    }\n",
              "</style>\n",
              "<table border=\"1\" class=\"dataframe\">\n",
              "  <thead>\n",
              "    <tr style=\"text-align: right;\">\n",
              "      <th></th>\n",
              "      <th>Unnamed: 0</th>\n",
              "      <th>location</th>\n",
              "      <th>type.name</th>\n",
              "      <th>player.name</th>\n",
              "      <th>shot.outcome.name</th>\n",
              "      <th>x</th>\n",
              "      <th>y</th>\n",
              "    </tr>\n",
              "  </thead>\n",
              "  <tbody>\n",
              "    <tr>\n",
              "      <th>0</th>\n",
              "      <td>1</td>\n",
              "      <td>103, 21</td>\n",
              "      <td>Shot</td>\n",
              "      <td>Yasir Gharsan Al Shahrani</td>\n",
              "      <td>Blocked</td>\n",
              "      <td>103</td>\n",
              "      <td>21</td>\n",
              "    </tr>\n",
              "    <tr>\n",
              "      <th>1</th>\n",
              "      <td>2</td>\n",
              "      <td>111, 52</td>\n",
              "      <td>Shot</td>\n",
              "      <td>Aleksandr Samedov</td>\n",
              "      <td>Blocked</td>\n",
              "      <td>111</td>\n",
              "      <td>52</td>\n",
              "    </tr>\n",
              "    <tr>\n",
              "      <th>2</th>\n",
              "      <td>3</td>\n",
              "      <td>107, 26</td>\n",
              "      <td>Shot</td>\n",
              "      <td>Yuri Zhirkov</td>\n",
              "      <td>Blocked</td>\n",
              "      <td>107</td>\n",
              "      <td>26</td>\n",
              "    </tr>\n",
              "    <tr>\n",
              "      <th>3</th>\n",
              "      <td>4</td>\n",
              "      <td>106, 49</td>\n",
              "      <td>Shot</td>\n",
              "      <td>Alan Dzagoev</td>\n",
              "      <td>Blocked</td>\n",
              "      <td>106</td>\n",
              "      <td>49</td>\n",
              "    </tr>\n",
              "    <tr>\n",
              "      <th>4</th>\n",
              "      <td>5</td>\n",
              "      <td>112, 47</td>\n",
              "      <td>Shot</td>\n",
              "      <td>Yury Gazinskiy</td>\n",
              "      <td>Goal</td>\n",
              "      <td>112</td>\n",
              "      <td>47</td>\n",
              "    </tr>\n",
              "  </tbody>\n",
              "</table>\n",
              "</div>"
            ],
            "text/plain": [
              "   Unnamed: 0 location type.name  ... shot.outcome.name    x   y\n",
              "0           1  103, 21      Shot  ...           Blocked  103  21\n",
              "1           2  111, 52      Shot  ...           Blocked  111  52\n",
              "2           3  107, 26      Shot  ...           Blocked  107  26\n",
              "3           4  106, 49      Shot  ...           Blocked  106  49\n",
              "4           5  112, 47      Shot  ...              Goal  112  47\n",
              "\n",
              "[5 rows x 7 columns]"
            ]
          },
          "metadata": {
            "tags": []
          },
          "execution_count": 36
        }
      ]
    },
    {
      "cell_type": "code",
      "metadata": {
        "id": "SzMY0NJrnyd_",
        "colab_type": "code",
        "colab": {}
      },
      "source": [
        "worldcup.drop(\"location\", axis = 1, inplace = True)\n",
        "worldcup[\"x\"] = worldcup[\"x\"].astype(int)\n",
        "worldcup[\"y\"] = worldcup[\"y\"].astype(int)"
      ],
      "execution_count": 0,
      "outputs": []
    },
    {
      "cell_type": "code",
      "metadata": {
        "id": "OqPVROjin18o",
        "colab_type": "code",
        "colab": {}
      },
      "source": [
        "xGvals = []\n",
        "for date, row in worldcup.iterrows():\n",
        "    if row[\"x\"] <= 90:\n",
        "        xGvals.append(0.04)\n",
        "    elif row[\"x\"] > 90 and row[\"x\"] <= 102 and (row[\"y\"] >= 18 and row[\"y\"] <= 62):\n",
        "        xGvals.append(0.03)\n",
        "    elif row[\"x\"] > 90 and row[\"x\"] <= 0 and (row[\"y\"] < 18 or row[\"y\"] > 62):\n",
        "        xGvals.append(0.02)\n",
        "    elif row[\"x\"] > 102 and row[\"x\"] <= 114 and (row[\"y\"] >= 34 and row[\"y\"] <= 46):\n",
        "        xGvals.append(0.13)\n",
        "    elif row[\"x\"] > 102 and row[\"x\"] <= 114 and (row[\"y\"] < 34 or row[\"y\"] > 46):\n",
        "        xGvals.append(0.06)\n",
        "    elif row[\"x\"] > 114 and row[\"x\"] <= 120 and (row[\"y\"] >= 36 and row[\"y\"] <= 44):\n",
        "        xGvals.append(0.43)\n",
        "    elif row[\"x\"] > 114 and row[\"x\"] <= 120 and ((row[\"y\"] < 36 and row[\"y\"] >= 34) or (row[\"y\"] <= 46 and row[\"y\"] > 44)):\n",
        "        xGvals.append(0.17)\n",
        "    elif row[\"x\"] > 114 and row[\"x\"] <= 120 and ((row[\"y\"] < 34 and row[\"y\"] >= 18) or (row[\"y\"] <= 62 and row[\"y\"] > 46)):\n",
        "        xGvals.append(0.08)\n",
        "    else:\n",
        "        xGvals.append(0.06)\n",
        "worldcup[\"xG\"] = xGvals"
      ],
      "execution_count": 0,
      "outputs": []
    },
    {
      "cell_type": "code",
      "metadata": {
        "id": "tyCSZynWn70G",
        "colab_type": "code",
        "colab": {}
      },
      "source": [
        "goals = []\n",
        "for date, row in worldcup.iterrows():\n",
        "    if row[\"shot.outcome.name\"] == \"Goal\":\n",
        "        goals.append(1)\n",
        "    else:\n",
        "        goals.append(0)\n",
        "worldcup[\"goal\"] = goals"
      ],
      "execution_count": 0,
      "outputs": []
    },
    {
      "cell_type": "code",
      "metadata": {
        "id": "JzG8H1KSwN1f",
        "colab_type": "code",
        "outputId": "faac1eea-5c18-4494-a3fb-a6e3cd3f5c19",
        "colab": {
          "base_uri": "https://localhost:8080/",
          "height": 204
        }
      },
      "source": [
        "worldcup.tail()"
      ],
      "execution_count": 0,
      "outputs": [
        {
          "output_type": "execute_result",
          "data": {
            "text/html": [
              "<div>\n",
              "<style scoped>\n",
              "    .dataframe tbody tr th:only-of-type {\n",
              "        vertical-align: middle;\n",
              "    }\n",
              "\n",
              "    .dataframe tbody tr th {\n",
              "        vertical-align: top;\n",
              "    }\n",
              "\n",
              "    .dataframe thead th {\n",
              "        text-align: right;\n",
              "    }\n",
              "</style>\n",
              "<table border=\"1\" class=\"dataframe\">\n",
              "  <thead>\n",
              "    <tr style=\"text-align: right;\">\n",
              "      <th></th>\n",
              "      <th>Unnamed: 0</th>\n",
              "      <th>type.name</th>\n",
              "      <th>player.name</th>\n",
              "      <th>shot.outcome.name</th>\n",
              "      <th>x</th>\n",
              "      <th>y</th>\n",
              "      <th>xG</th>\n",
              "      <th>goal</th>\n",
              "    </tr>\n",
              "  </thead>\n",
              "  <tbody>\n",
              "    <tr>\n",
              "      <th>1701</th>\n",
              "      <td>1702</td>\n",
              "      <td>Shot</td>\n",
              "      <td>Mario Mandžukić</td>\n",
              "      <td>Goal</td>\n",
              "      <td>114</td>\n",
              "      <td>43</td>\n",
              "      <td>0.13</td>\n",
              "      <td>1</td>\n",
              "    </tr>\n",
              "    <tr>\n",
              "      <th>1702</th>\n",
              "      <td>1703</td>\n",
              "      <td>Shot</td>\n",
              "      <td>Šime Vrsaljko</td>\n",
              "      <td>Off T</td>\n",
              "      <td>78</td>\n",
              "      <td>40</td>\n",
              "      <td>0.04</td>\n",
              "      <td>0</td>\n",
              "    </tr>\n",
              "    <tr>\n",
              "      <th>1703</th>\n",
              "      <td>1704</td>\n",
              "      <td>Shot</td>\n",
              "      <td>Ivan Rakitić</td>\n",
              "      <td>Blocked</td>\n",
              "      <td>101</td>\n",
              "      <td>30</td>\n",
              "      <td>0.03</td>\n",
              "      <td>0</td>\n",
              "    </tr>\n",
              "    <tr>\n",
              "      <th>1704</th>\n",
              "      <td>1705</td>\n",
              "      <td>Shot</td>\n",
              "      <td>Nabil Fekir</td>\n",
              "      <td>Saved</td>\n",
              "      <td>98</td>\n",
              "      <td>61</td>\n",
              "      <td>0.03</td>\n",
              "      <td>0</td>\n",
              "    </tr>\n",
              "    <tr>\n",
              "      <th>1705</th>\n",
              "      <td>1706</td>\n",
              "      <td>Shot</td>\n",
              "      <td>Ivan Rakitić</td>\n",
              "      <td>Off T</td>\n",
              "      <td>90</td>\n",
              "      <td>24</td>\n",
              "      <td>0.04</td>\n",
              "      <td>0</td>\n",
              "    </tr>\n",
              "  </tbody>\n",
              "</table>\n",
              "</div>"
            ],
            "text/plain": [
              "      Unnamed: 0 type.name      player.name  ...   y    xG  goal\n",
              "1701        1702      Shot  Mario Mandžukić  ...  43  0.13     1\n",
              "1702        1703      Shot    Šime Vrsaljko  ...  40  0.04     0\n",
              "1703        1704      Shot     Ivan Rakitić  ...  30  0.03     0\n",
              "1704        1705      Shot      Nabil Fekir  ...  61  0.03     0\n",
              "1705        1706      Shot     Ivan Rakitić  ...  24  0.04     0\n",
              "\n",
              "[5 rows x 8 columns]"
            ]
          },
          "metadata": {
            "tags": []
          },
          "execution_count": 41
        }
      ]
    },
    {
      "cell_type": "code",
      "metadata": {
        "id": "pJQ8ZWDNoCYS",
        "colab_type": "code",
        "colab": {}
      },
      "source": [
        "dfToUse = worldcup.groupby([\"player.name\"]).sum()\n",
        "dfToUse.drop([\"x\", \"y\", \"Unnamed: 0\"], axis=1, inplace=True)\n",
        "#dfToUse.to_csv(\"WorldCupExpectedGoals.csv\")"
      ],
      "execution_count": 0,
      "outputs": []
    },
    {
      "cell_type": "code",
      "metadata": {
        "id": "j_McIcqpwTgN",
        "colab_type": "code",
        "outputId": "34c5b3ef-28cd-49f9-fa11-8811f48e242e",
        "colab": {
          "base_uri": "https://localhost:8080/",
          "height": 235
        }
      },
      "source": [
        "dfToUse.head()"
      ],
      "execution_count": 0,
      "outputs": [
        {
          "output_type": "execute_result",
          "data": {
            "text/html": [
              "<div>\n",
              "<style scoped>\n",
              "    .dataframe tbody tr th:only-of-type {\n",
              "        vertical-align: middle;\n",
              "    }\n",
              "\n",
              "    .dataframe tbody tr th {\n",
              "        vertical-align: top;\n",
              "    }\n",
              "\n",
              "    .dataframe thead th {\n",
              "        text-align: right;\n",
              "    }\n",
              "</style>\n",
              "<table border=\"1\" class=\"dataframe\">\n",
              "  <thead>\n",
              "    <tr style=\"text-align: right;\">\n",
              "      <th></th>\n",
              "      <th>xG</th>\n",
              "      <th>goal</th>\n",
              "    </tr>\n",
              "    <tr>\n",
              "      <th>player.name</th>\n",
              "      <th></th>\n",
              "      <th></th>\n",
              "    </tr>\n",
              "  </thead>\n",
              "  <tbody>\n",
              "    <tr>\n",
              "      <th>Aaron Mooy</th>\n",
              "      <td>0.09</td>\n",
              "      <td>0</td>\n",
              "    </tr>\n",
              "    <tr>\n",
              "      <th>Abdalla Mahmoud El Said Bekhit</th>\n",
              "      <td>0.10</td>\n",
              "      <td>0</td>\n",
              "    </tr>\n",
              "    <tr>\n",
              "      <th>Abdullah Ibrahim Otayf</th>\n",
              "      <td>0.16</td>\n",
              "      <td>0</td>\n",
              "    </tr>\n",
              "    <tr>\n",
              "      <th>Achraf Hakimi Mouh</th>\n",
              "      <td>0.06</td>\n",
              "      <td>0</td>\n",
              "    </tr>\n",
              "    <tr>\n",
              "      <th>Adem Ljajić</th>\n",
              "      <td>0.06</td>\n",
              "      <td>0</td>\n",
              "    </tr>\n",
              "  </tbody>\n",
              "</table>\n",
              "</div>"
            ],
            "text/plain": [
              "                                  xG  goal\n",
              "player.name                               \n",
              "Aaron Mooy                      0.09     0\n",
              "Abdalla Mahmoud El Said Bekhit  0.10     0\n",
              "Abdullah Ibrahim Otayf          0.16     0\n",
              "Achraf Hakimi Mouh              0.06     0\n",
              "Adem Ljajić                     0.06     0"
            ]
          },
          "metadata": {
            "tags": []
          },
          "execution_count": 47
        }
      ]
    },
    {
      "cell_type": "code",
      "metadata": {
        "id": "KaO64b8kwgmG",
        "colab_type": "code",
        "colab": {}
      },
      "source": [
        "git_link = \"https://raw.githubusercontent.com/mghosh13/Soccer-Project/master/\"\n",
        "worldcup = pd.read_csv(git_link + \"res/WorldCupExpectedGoals.csv\")\n",
        "club = pd.read_csv(git_link + \"res/2018Club.csv\")"
      ],
      "execution_count": 0,
      "outputs": []
    },
    {
      "cell_type": "code",
      "metadata": {
        "id": "RXjk2w9zwqy_",
        "colab_type": "code",
        "outputId": "9b85c696-b715-4dc6-e2e8-f65a7d735bc3",
        "colab": {
          "base_uri": "https://localhost:8080/",
          "height": 204
        }
      },
      "source": [
        "worldcup.head()"
      ],
      "execution_count": 0,
      "outputs": [
        {
          "output_type": "execute_result",
          "data": {
            "text/html": [
              "<div>\n",
              "<style scoped>\n",
              "    .dataframe tbody tr th:only-of-type {\n",
              "        vertical-align: middle;\n",
              "    }\n",
              "\n",
              "    .dataframe tbody tr th {\n",
              "        vertical-align: top;\n",
              "    }\n",
              "\n",
              "    .dataframe thead th {\n",
              "        text-align: right;\n",
              "    }\n",
              "</style>\n",
              "<table border=\"1\" class=\"dataframe\">\n",
              "  <thead>\n",
              "    <tr style=\"text-align: right;\">\n",
              "      <th></th>\n",
              "      <th>player.name</th>\n",
              "      <th>xG</th>\n",
              "      <th>goal</th>\n",
              "    </tr>\n",
              "  </thead>\n",
              "  <tbody>\n",
              "    <tr>\n",
              "      <th>0</th>\n",
              "      <td>Aaron Mooy</td>\n",
              "      <td>0.09</td>\n",
              "      <td>0</td>\n",
              "    </tr>\n",
              "    <tr>\n",
              "      <th>1</th>\n",
              "      <td>Abdalla Mahmoud El Said Bekhit</td>\n",
              "      <td>0.10</td>\n",
              "      <td>0</td>\n",
              "    </tr>\n",
              "    <tr>\n",
              "      <th>2</th>\n",
              "      <td>Abdullah Ibrahim Otayf</td>\n",
              "      <td>0.16</td>\n",
              "      <td>0</td>\n",
              "    </tr>\n",
              "    <tr>\n",
              "      <th>3</th>\n",
              "      <td>Achraf Hakimi Mouh</td>\n",
              "      <td>0.06</td>\n",
              "      <td>0</td>\n",
              "    </tr>\n",
              "    <tr>\n",
              "      <th>4</th>\n",
              "      <td>Adem Ljajić</td>\n",
              "      <td>0.06</td>\n",
              "      <td>0</td>\n",
              "    </tr>\n",
              "  </tbody>\n",
              "</table>\n",
              "</div>"
            ],
            "text/plain": [
              "                      player.name    xG  goal\n",
              "0                      Aaron Mooy  0.09     0\n",
              "1  Abdalla Mahmoud El Said Bekhit  0.10     0\n",
              "2          Abdullah Ibrahim Otayf  0.16     0\n",
              "3              Achraf Hakimi Mouh  0.06     0\n",
              "4                     Adem Ljajić  0.06     0"
            ]
          },
          "metadata": {
            "tags": []
          },
          "execution_count": 49
        }
      ]
    },
    {
      "cell_type": "code",
      "metadata": {
        "id": "DxJhSvNGwtQI",
        "colab_type": "code",
        "outputId": "87c74217-ba95-40f8-b99f-9d0db4f10565",
        "colab": {
          "base_uri": "https://localhost:8080/",
          "height": 255
        }
      },
      "source": [
        "club.head()"
      ],
      "execution_count": 0,
      "outputs": [
        {
          "output_type": "execute_result",
          "data": {
            "text/html": [
              "<div>\n",
              "<style scoped>\n",
              "    .dataframe tbody tr th:only-of-type {\n",
              "        vertical-align: middle;\n",
              "    }\n",
              "\n",
              "    .dataframe tbody tr th {\n",
              "        vertical-align: top;\n",
              "    }\n",
              "\n",
              "    .dataframe thead th {\n",
              "        text-align: right;\n",
              "    }\n",
              "</style>\n",
              "<table border=\"1\" class=\"dataframe\">\n",
              "  <thead>\n",
              "    <tr style=\"text-align: right;\">\n",
              "      <th></th>\n",
              "      <th>player_name</th>\n",
              "      <th>games</th>\n",
              "      <th>team_title</th>\n",
              "      <th>time</th>\n",
              "      <th>League</th>\n",
              "      <th>goals per 90 mins</th>\n",
              "      <th>npg per 90 mins</th>\n",
              "      <th>npxG per 90 mins</th>\n",
              "      <th>shots per 90 mins</th>\n",
              "      <th>xG per 90 mins</th>\n",
              "      <th>xGBuildup per 90 mins</th>\n",
              "      <th>xGChain per 90 mins</th>\n",
              "    </tr>\n",
              "  </thead>\n",
              "  <tbody>\n",
              "    <tr>\n",
              "      <th>0</th>\n",
              "      <td>Lionel Messi</td>\n",
              "      <td>34</td>\n",
              "      <td>Barcelona</td>\n",
              "      <td>2704</td>\n",
              "      <td>La Liga</td>\n",
              "      <td>1.198225</td>\n",
              "      <td>1.065089</td>\n",
              "      <td>0.741598</td>\n",
              "      <td>5.658284</td>\n",
              "      <td>0.865290</td>\n",
              "      <td>0.356099</td>\n",
              "      <td>1.280099</td>\n",
              "    </tr>\n",
              "    <tr>\n",
              "      <th>1</th>\n",
              "      <td>Luis Suárez</td>\n",
              "      <td>33</td>\n",
              "      <td>Barcelona</td>\n",
              "      <td>2832</td>\n",
              "      <td>La Liga</td>\n",
              "      <td>0.667373</td>\n",
              "      <td>0.540254</td>\n",
              "      <td>0.680767</td>\n",
              "      <td>3.559322</td>\n",
              "      <td>0.775247</td>\n",
              "      <td>0.393372</td>\n",
              "      <td>1.169754</td>\n",
              "    </tr>\n",
              "    <tr>\n",
              "      <th>2</th>\n",
              "      <td>Karim Benzema</td>\n",
              "      <td>36</td>\n",
              "      <td>Real Madrid</td>\n",
              "      <td>2972</td>\n",
              "      <td>La Liga</td>\n",
              "      <td>0.635935</td>\n",
              "      <td>0.545087</td>\n",
              "      <td>0.497831</td>\n",
              "      <td>3.149394</td>\n",
              "      <td>0.565357</td>\n",
              "      <td>0.243143</td>\n",
              "      <td>0.823740</td>\n",
              "    </tr>\n",
              "    <tr>\n",
              "      <th>3</th>\n",
              "      <td>Iago Aspas</td>\n",
              "      <td>27</td>\n",
              "      <td>Celta Vigo</td>\n",
              "      <td>2268</td>\n",
              "      <td>La Liga</td>\n",
              "      <td>0.793651</td>\n",
              "      <td>0.595238</td>\n",
              "      <td>0.347377</td>\n",
              "      <td>2.777778</td>\n",
              "      <td>0.494853</td>\n",
              "      <td>0.232724</td>\n",
              "      <td>0.737059</td>\n",
              "    </tr>\n",
              "    <tr>\n",
              "      <th>4</th>\n",
              "      <td>Cristhian Stuani</td>\n",
              "      <td>32</td>\n",
              "      <td>Girona</td>\n",
              "      <td>2736</td>\n",
              "      <td>La Liga</td>\n",
              "      <td>0.625000</td>\n",
              "      <td>0.460526</td>\n",
              "      <td>0.351531</td>\n",
              "      <td>2.598684</td>\n",
              "      <td>0.473773</td>\n",
              "      <td>0.144527</td>\n",
              "      <td>0.425462</td>\n",
              "    </tr>\n",
              "  </tbody>\n",
              "</table>\n",
              "</div>"
            ],
            "text/plain": [
              "        player_name  games  ... xGBuildup per 90 mins  xGChain per 90 mins\n",
              "0      Lionel Messi     34  ...              0.356099             1.280099\n",
              "1       Luis Suárez     33  ...              0.393372             1.169754\n",
              "2     Karim Benzema     36  ...              0.243143             0.823740\n",
              "3        Iago Aspas     27  ...              0.232724             0.737059\n",
              "4  Cristhian Stuani     32  ...              0.144527             0.425462\n",
              "\n",
              "[5 rows x 12 columns]"
            ]
          },
          "metadata": {
            "tags": []
          },
          "execution_count": 50
        }
      ]
    },
    {
      "cell_type": "code",
      "metadata": {
        "id": "IUVI8NbgwuuU",
        "colab_type": "code",
        "outputId": "a13d573b-3079-4bfd-dde7-bba9fada9886",
        "colab": {
          "base_uri": "https://localhost:8080/",
          "height": 102
        }
      },
      "source": [
        "#Change the names of players in the world cup dataset when they contain the first and last names within the  \n",
        "i = 0\n",
        "for data, row in worldcup.iterrows():\n",
        "    fullname = row[\"player.name\"]\n",
        "    \n",
        "    for idata, irow in club.iterrows():\n",
        "        splitname = irow[\"player_name\"].split(maxsplit = 2)\n",
        "        first = splitname[0]\n",
        "        if len(splitname) > 1: \n",
        "            last = splitname[1]\n",
        "        else:\n",
        "            break      \n",
        "        \n",
        "        if first in fullname and last in fullname and fullname.index(first) < fullname.index(last):\n",
        "            worldcup.loc[i, \"player.name\"] = irow[\"player_name\"]\n",
        "            #worldcup[worldcup[\"player.name\"] == fullname][\"player.name\"] = irow[\"player_name\"]\n",
        "            print(\"Changing name to\", irow[\"player_name\"])\n",
        "    i+=1"
      ],
      "execution_count": 0,
      "outputs": [
        {
          "output_type": "stream",
          "text": [
            "Changing name to Antoine Griezmann\n",
            "Changing name to Cristhian Stuani\n",
            "Changing name to Iago Aspas\n",
            "Changing name to Lionel Messi\n",
            "Changing name to Luis Suárez\n"
          ],
          "name": "stdout"
        }
      ]
    },
    {
      "cell_type": "code",
      "metadata": {
        "id": "11U-ZJW-w3E1",
        "colab_type": "code",
        "colab": {}
      },
      "source": [
        "name_map = {\"Šime Vrsaljko\":\"Sime Vrsaljko\", \n",
        "            \"Łukasz Teodorczyk\":\"Lukasz Teodorczyk\", \n",
        "            \"Łukasz Piszczek\": \"Lukasz Piszczek\", \n",
        "            \"İlkay Gündoğan\": \"Ilkay Gündogan\",\n",
        "            \"Óscar Esau Duarte Gaitán\": \"Óscar Duarte\",\n",
        "            \"Éver Maximiliano David Banega\": \"Éver Banega\",\n",
        "            \"Ángel Fabián Di María Hernández\": \"Ángel Di María\",\n",
        "            \"Yūya Ōsako\": \"Yuya Osako\",\n",
        "            \"Yussuf Yurary Poulsen\": \"Yussuf Poulsen\",\n",
        "            \"Yerry Fernando Mina González\": \"Yerry Mina\",\n",
        "            \"Willian Borges da Silva\": \"Willian\",\n",
        "            \"William Silva de Carvalho\": \"William Carvalho\",\n",
        "            \"Yury Gazinskiy\":\"Yuri Gazinskiy\",\n",
        "            \"Thiago Emiliano da Silva\": \"Thiago Silva\",\n",
        "            \"Thiago Alcântara do Nascimento\": \"Thiago Alcántara\",\n",
        "            \"Sung-Yeung Ki\": \"Ki Sung-yueng\",\n",
        "            \"Simon Thorup Kjær\": \"Simon Kjaer\",\n",
        "            \"Sergio Ramos García\": \"Sergio Ramos\",\n",
        "            \"Sergio Leonel Agüero del Castillo\": \"Sergio Agüero\",\n",
        "            \"Sergej Milinković-Savić\": \"Sergej Milinkovic-Savic\",\n",
        "            \"Saîf-Eddine Khaoui\": \"Saif-Eddine Khaoui\",\n",
        "            \"Santiago Arias Naranjo\": \"Santiago Arias\",\n",
        "            \"Samuel Yves Umtiti\": \"Samuel Yves Umtiti\",\n",
        "            \"Rui Pedro dos Santos Patrício\": \"Rui Patrício\",\n",
        "            \"Romelu Lukaku Menama\": \"Romelu Lukaku\",\n",
        "            \"Romain Saïss\": \"Romain Saiss\",            \n",
        "            \"Rodrigo Moreno Machado\": \"Rodrigo\",\n",
        "            \"Rodrigo Bentancur Colmán\": \"Rodrigo Bentancur\",\n",
        "            \"Roberto Firmino Barbosa de Oliveira\": \"Roberto Firmino\",\n",
        "            \"Ricardo Iván Rodríguez Araya\": \"Ricardo Rodríguez\",\n",
        "            \"Raúl Alonso Jiménez Rodríguez\": \"Raúl Jiménez\",\n",
        "            \"Raphaël Varane\": \"Raphael Varane\",\n",
        "            \"Raphaël Adelino José Guerreiro\": \"Raphael Guerreiro\",\n",
        "            \"Raheem Shaquille Sterling\": \"Raheem Sterling\",\n",
        "            \"Radamel Falcao García Zárate\": \"Falcao\",\n",
        "            \"Piotr Zieliński\": \"Piotr Zielinski\",\n",
        "            \"Pione Sisto Ifolo Emirmija\": \"Pione Sisto\",\n",
        "            \"Philippe Coutinho Correia\" : \"Philippe Coutinho\",\n",
        "            \"Paulo Bruno Exequiel Dybala\": \"Paulo Dybala\",\n",
        "            \"Onyinye Wilfred Ndidi\": \"Wilfred Ndidi\",\n",
        "            \"Nicolás Hernán Otamendi\": \"Nicolás Otamendi\",\n",
        "            \"Neymar da Silva Santos Junior\": \"Neymar\",\n",
        "            \"Nemanja Matić\": \"Nemanja Matic\",\n",
        "            \"N\\\"Golo Kanté\": \"N'Golo Kanté\",\n",
        "            \"Mário Figueira Fernandes\": \"Mario Fernandes\",\n",
        "            \"Michy Batshuayi Tunga\": \"Michy Batshuayi\",\n",
        "            \"Matías Vecino Falero\": \"Matías Vecino\",\n",
        "            \"Mateo Kovačić\": \"Mateo Kovacic\",\n",
        "            \"Martin Braithwaite Christensen\": \"Martin Braithwaite\",\n",
        "            \"Marouane Fellaini-Bakkioui\": \"Marouane Fellaini\",\n",
        "            \"Mario Mandžukić\":\"Mario Mandzukic\",            \n",
        "            \"Mario Gómez García\": \"Mario Gomez\",\n",
        "            \"Marco Asensio Willemsen\": \"Marco Asensio\",\n",
        "            \"Marcelo Vieira da Silva Júnior\": \"Marcelo\",\n",
        "            \"Marcelo Brozović\": \"Marcelo Brozovic\",\n",
        "            \"Manuel Obafemi Akanji\": \"Manuel Akanji\",\n",
        "            \"Manuel Henrique Tavares Fernandes\": \"Manuel Fernandes\",\n",
        "            \"M\\\"Baye Babacar Niang\": \"M'Baye Niang\",\n",
        "            \"Luka Modrić\": \"Luka Modric\",\n",
        "            \"Luis Jan Piers Advíncula Castrillón\": \"Luis Advíncula\",\n",
        "            \"Luis Fernando Muriel Fruto\": \"Luis Muriel\",\n",
        "            \"Lucas Torreira Di Pascua\": \"Lucas Torreira\",\n",
        "            \"Lucas Rodrigo Biglia\": \"Lucas Biglia\",\n",
        "            \"Lucas Hernández Pi\": \"Lucas Hernández\",\n",
        "            \"Kylian Mbappé Lottin\": \"Kylian Mbappe-Lottin\",\n",
        "            \"Kenneth Josiah Omeruo\": \"Kenneth Omeruo\",\n",
        "            \"Kelechi Promise Iheanacho\": \"Kelechi Iheanacho\",\n",
        "            \"Keita Baldé Diao\": \"Keita\",\n",
        "            \"Juan Guillermo Cuadrado Bello\": \"Juan Cuadrado\",\n",
        "            \"João Mário Mário Naval da Costa Eduardo\": \"João Mário\",\n",
        "            \"José Miguel da Rocha Fonte\": \"José Fonte\",\n",
        "            \"José María Giménez de Vargas\": \"Giménez\",\n",
        "            \"José Martín Cáceres Silva\": \"Martín Cáceres\"}\n",
        "name_map.update({\"Achraf Hakimi Mouh\" : \"Achraf Hakimi\"})\n",
        "name_map.update({\"Adem Ljajić\" : \"Adem Ljajic\"})\n",
        "name_map.update({\"Adrien Sebastian Perruchet Silva\" : \"Adrien Silva\"})\n",
        "name_map.update({\"Aleksandar Mitrović\" : \"Aleksandar Mitrovic\"})\n",
        "name_map.update({\"Alfreð Finnbogason\" : \"Alfred Finnbogason\"})\n",
        "name_map.update({\"Andreas Evald Cornelius\" : \"Andreas Cornelius\"})\n",
        "name_map.update({\"Andrej Kramarić\" : \"Andrej Kramaric\"})\n",
        "name_map.update({\"André Miguel Valente Silva\" : \"André Silva\"})\n",
        "name_map.update({\"Ante Rebić\" : \"Ante Rebic\"})\n",
        "name_map.update({\"Aron Einar Gunnarsson\" : \"Aron Gunnarsson\"})\n",
        "name_map.update({\"Bamidele Alli\" : \"Dele Alli\"})\n",
        "name_map.update({\"Bartosz Bereszyński\" : \"Bartosz Bereszynski\"})\n",
        "name_map.update({\"Bernardo Mota Veiga de Carvalho e Silva\" : \"Bernardo Silva\"})\n",
        "name_map.update({\"Blerim Džemaili\" : \"Blerim Dzemaili\"})\n",
        "name_map.update({\"Breel-Donald Embolo\" : \"Breel Embolo\"})\n",
        "name_map.update({\"Carlos Arturo Bacca Ahumada\" : \"Carlos Bacca\"})\n",
        "name_map.update({\"Carlos Henrique Casimiro\" : \"Casemiro\"})\n",
        "name_map.update({\"Christian Alberto Cueva Bravo\" : \"Christian Cueva\"})\n",
        "name_map.update({\"Christian Dannemann Eriksen\" : \"Christian Eriksen\"})\n",
        "name_map.update({\"Cristiano Ronaldo dos Santos Aveiro\" : \"Cristiano Ronaldo\"})\n",
        "name_map.update({\"Daniel Carvajal Ramos\" : \"Daniel Carvajal\"})\n",
        "name_map.update({\"Daniel Nii Tackie Mensah Welbeck\" : \"Danny Welbeck\"})\n",
        "name_map.update({\"David Josué Jiménez Silva\" : \"David Silva\"})\n",
        "name_map.update({\"Davinson Sánchez Mina\" : \"Davinson Sánchez\"})\n",
        "name_map.update({\"Diego Roberto Godín Leal\" : \"Diego Godín\"})\n",
        "name_map.update({\"Diego Sebastián Laxalt Suárez\" : \"Diego Laxalt\"})\n",
        "name_map.update({\"Diego da Silva Costa\" : \"Diego Costa\"})\n",
        "name_map.update({\"Douglas Costa de Souza\" : \"Douglas Costa\"})\n",
        "name_map.update({\"Edinson Roberto Cavani Gómez\" : \"Edinson Cavani\"})\n",
        "name_map.update({\"Emil Hallfreðsson\" : \"Emil Hallfredsson\"})\n",
        "name_map.update({\"Fabian Lukas Schär\" : \"Fabian Schär\"})\n",
        "name_map.update({\"Faustino Marcos Alberto Rojo\" : \"Marcos Rojo\"})\n",
        "name_map.update({\"Fernando Luiz Rosa\" : \"Fernandinho\"})\n",
        "name_map.update({\"Filip Kostić\" : \"Filip Kostic\"})\n",
        "name_map.update({\"Filipe Luis Kasmirski\" : \"Filipe Luis\"})\n",
        "name_map.update({\"Francisco Román Alarcón Suárez\" : \"Isco\"})\n",
        "name_map.update({\"Fyodor Smolov\" : \"Fedor Smolov\"})\n",
        "name_map.update({\"Gabriel Fernando de Jesus\" : \"Gabriel Jesus\"})\n",
        "name_map.update({\"Gen Shōji\" : \"Gen Shoji\"})\n",
        "name_map.update({\"Gerard Piqué Bernabéu\" : \"Gerard Piqué\"})\n",
        "name_map.update({\"Gonzalo Gerardo Higuaín\" : \"Gonzalo Higuaín\"})\n",
        "name_map.update({\"Gonçalo Manuel Ganchinho Guedes\" : \"Gonçalo Guedes\"})\n",
        "name_map.update({\"Gylfi Þór Sigurðsson\" : \"Gylfi Sigurdsson\"})\n",
        "name_map.update({\"Heung-Min Son\" : \"Son Heung-Min\"})\n",
        "name_map.update({\"Hörður Björgvin Magnússon\" : \"Hördur Bjorgvin Magnusson\"})\n",
        "name_map.update({\"Idrissa Gana Gueye\" : \"Idrissa Gueye\"})\n",
        "name_map.update({\"Ismaïla Sarr\" : \"Ismaila Sarr\"})\n",
        "name_map.update({\"Ivan Perišić\" : \"Ivan Perisic\"})\n",
        "name_map.update({\"Ivan Rakitić\" : \"Ivan Rakitic\"})\n",
        "name_map.update({\"James David Rodríguez Rubio\" : \"James Rodríguez\"})\n",
        "name_map.update({\"Javier Hernández Balcázar\" : \"Chicharito\"})\n",
        "name_map.update({\"Jefferson Agustín Farfán Guadalupe\" : \"Jefferson Farfán\"})\n",
        "name_map.update({\"Jefferson Andrés Lerma Solís\" : \"Jefferson Lerma\"})\n",
        "name_map.update({\"Johan Andrés Mojica Palacio\" : \"Johan Mojica\"})\n",
        "name_map.update({\"Johann Berg Guðmunds­son\" : \"Johann Berg Gudmundsson\"})\n",
        "name_map.update({\"Jordan Brian Henderson\" : \"Jordan Henderson\"})\n",
        "name_map.update({\"Jordi Alba Ramos\" : \"Jordi Alba\"})\n",
        "name_map.update({\"Jorge Resurrección Merodio\" : \"Koke\"})\n",
        "name_map.update({\"José Andrés Guardado Hernández\" : \"Andrés Guardado\"})\n",
        "name_map.update({\"José Ignacio Fernández Iglesias\" : \"Nacho\"})"
      ],
      "execution_count": 0,
      "outputs": []
    },
    {
      "cell_type": "code",
      "metadata": {
        "id": "ybTaiaB2xCOw",
        "colab_type": "code",
        "colab": {}
      },
      "source": [
        "worldcup = worldcup.replace(to_replace=name_map)"
      ],
      "execution_count": 0,
      "outputs": []
    },
    {
      "cell_type": "code",
      "metadata": {
        "id": "yK5207D6xEbl",
        "colab_type": "code",
        "outputId": "16a0b46d-c4d5-4357-bdfd-659dff53006c",
        "colab": {
          "base_uri": "https://localhost:8080/",
          "height": 357
        }
      },
      "source": [
        "#Need to merge the two datasets on the player_name\n",
        "worldcup = worldcup.set_index(\"player.name\")\n",
        "club = club.set_index(\"player_name\")\n",
        "#Only has players with the exact same name, need to get players that have different names in the different dataframes,\n",
        "# but are actually the same person\n",
        "merged = pd.merge(worldcup, club, left_index=True, right_index=True, how = \"left\")\n",
        "merged = merged.dropna()\n",
        "merged = merged.reset_index()\n",
        "merged = merged.rename(columns = {\"index\": \"name\", \"xG\": \"World Cup xG\", \"goal\": \"World Cup goals\"})\n",
        "merged.head()"
      ],
      "execution_count": 0,
      "outputs": [
        {
          "output_type": "execute_result",
          "data": {
            "text/html": [
              "<div>\n",
              "<style scoped>\n",
              "    .dataframe tbody tr th:only-of-type {\n",
              "        vertical-align: middle;\n",
              "    }\n",
              "\n",
              "    .dataframe tbody tr th {\n",
              "        vertical-align: top;\n",
              "    }\n",
              "\n",
              "    .dataframe thead th {\n",
              "        text-align: right;\n",
              "    }\n",
              "</style>\n",
              "<table border=\"1\" class=\"dataframe\">\n",
              "  <thead>\n",
              "    <tr style=\"text-align: right;\">\n",
              "      <th></th>\n",
              "      <th>name</th>\n",
              "      <th>World Cup xG</th>\n",
              "      <th>World Cup goals</th>\n",
              "      <th>games</th>\n",
              "      <th>team_title</th>\n",
              "      <th>time</th>\n",
              "      <th>League</th>\n",
              "      <th>goals per 90 mins</th>\n",
              "      <th>npg per 90 mins</th>\n",
              "      <th>npxG per 90 mins</th>\n",
              "      <th>shots per 90 mins</th>\n",
              "      <th>xG per 90 mins</th>\n",
              "      <th>xGBuildup per 90 mins</th>\n",
              "      <th>xGChain per 90 mins</th>\n",
              "    </tr>\n",
              "  </thead>\n",
              "  <tbody>\n",
              "    <tr>\n",
              "      <th>0</th>\n",
              "      <td>Aaron Mooy</td>\n",
              "      <td>0.09</td>\n",
              "      <td>0</td>\n",
              "      <td>29.0</td>\n",
              "      <td>Huddersfield</td>\n",
              "      <td>2326.0</td>\n",
              "      <td>English Premier League</td>\n",
              "      <td>0.116079</td>\n",
              "      <td>0.077386</td>\n",
              "      <td>0.064198</td>\n",
              "      <td>1.663801</td>\n",
              "      <td>0.093650</td>\n",
              "      <td>0.134715</td>\n",
              "      <td>0.201850</td>\n",
              "    </tr>\n",
              "    <tr>\n",
              "      <th>1</th>\n",
              "      <td>Achraf Hakimi</td>\n",
              "      <td>0.06</td>\n",
              "      <td>0</td>\n",
              "      <td>21.0</td>\n",
              "      <td>Borussia Dortmund</td>\n",
              "      <td>1740.0</td>\n",
              "      <td>Bundesliga</td>\n",
              "      <td>0.103448</td>\n",
              "      <td>0.103448</td>\n",
              "      <td>0.087181</td>\n",
              "      <td>1.034483</td>\n",
              "      <td>0.087181</td>\n",
              "      <td>0.434539</td>\n",
              "      <td>0.564247</td>\n",
              "    </tr>\n",
              "    <tr>\n",
              "      <th>2</th>\n",
              "      <td>Adem Ljajic</td>\n",
              "      <td>0.06</td>\n",
              "      <td>0</td>\n",
              "      <td>1.0</td>\n",
              "      <td>Torino</td>\n",
              "      <td>27.0</td>\n",
              "      <td>Serie A</td>\n",
              "      <td>0.000000</td>\n",
              "      <td>0.000000</td>\n",
              "      <td>0.223172</td>\n",
              "      <td>6.666667</td>\n",
              "      <td>0.223172</td>\n",
              "      <td>0.367131</td>\n",
              "      <td>0.590303</td>\n",
              "    </tr>\n",
              "    <tr>\n",
              "      <th>3</th>\n",
              "      <td>Adnan Januzaj</td>\n",
              "      <td>0.16</td>\n",
              "      <td>1</td>\n",
              "      <td>20.0</td>\n",
              "      <td>Real Sociedad</td>\n",
              "      <td>1243.0</td>\n",
              "      <td>La Liga</td>\n",
              "      <td>0.072405</td>\n",
              "      <td>0.072405</td>\n",
              "      <td>0.187870</td>\n",
              "      <td>2.316975</td>\n",
              "      <td>0.187870</td>\n",
              "      <td>0.144926</td>\n",
              "      <td>0.414385</td>\n",
              "    </tr>\n",
              "    <tr>\n",
              "      <th>4</th>\n",
              "      <td>Adrien Silva</td>\n",
              "      <td>0.06</td>\n",
              "      <td>0</td>\n",
              "      <td>2.0</td>\n",
              "      <td>Leicester</td>\n",
              "      <td>86.0</td>\n",
              "      <td>English Premier League</td>\n",
              "      <td>0.000000</td>\n",
              "      <td>0.000000</td>\n",
              "      <td>0.000000</td>\n",
              "      <td>0.000000</td>\n",
              "      <td>0.000000</td>\n",
              "      <td>0.121696</td>\n",
              "      <td>0.121696</td>\n",
              "    </tr>\n",
              "  </tbody>\n",
              "</table>\n",
              "</div>"
            ],
            "text/plain": [
              "            name  World Cup xG  ...  xGBuildup per 90 mins  xGChain per 90 mins\n",
              "0     Aaron Mooy          0.09  ...               0.134715             0.201850\n",
              "1  Achraf Hakimi          0.06  ...               0.434539             0.564247\n",
              "2    Adem Ljajic          0.06  ...               0.367131             0.590303\n",
              "3  Adnan Januzaj          0.16  ...               0.144926             0.414385\n",
              "4   Adrien Silva          0.06  ...               0.121696             0.121696\n",
              "\n",
              "[5 rows x 14 columns]"
            ]
          },
          "metadata": {
            "tags": []
          },
          "execution_count": 54
        }
      ]
    },
    {
      "cell_type": "markdown",
      "metadata": {
        "id": "EIRoDUpn2Nga",
        "colab_type": "text"
      },
      "source": [
        "The original links to the dataset are as follows:\n",
        "\n",
        "https://understat.com/\n",
        "\n",
        "https://github.com/statsbomb/StatsBombR\n",
        "\n",
        "We have merged all the different league data from understat.com into a single DataFrame and added a league column. We removed several stats that would not be necessary for our research including yellow and red cards, position, and the understat id number. We also scaled the stats so they take into account the number of minutes each player has played. We did this because we deemed that it  would not be good practice to compare the stats of a player with twice as many minutes as another, which was particularly likely in the understat data given the length of a club season as compared to the length of an international tournament. In order to address this, we divided all statistics by their minutes played and then multiplied by 90, to get the stat per 90 minutes.\n",
        "\n",
        "We also used the StatsBomb API to obtain all the event data from every game of the 2018 World Cup. We then filtered this data so that we had only the shot event data, and created a new csv with only the parts of shot events we cared about (the name of the player who took the shot, whether the shot went in, and the x and y location of the shot on the pitch). We then used this data and passed each shot through our expected goals model, which attributed goal probabilities to each shot based on where on the field the shot was taken from. The shots were then grouped by the player who took the shot in order to obtain goal and expected goal tallies for each player. \n",
        "\n",
        "We then merged these two dataframes by player name, obtaining a database of only the players who competed in both the World Cup and one of the six European leagues for which we had data. We encountered a problem here, however, as the StatsBomb database referred to players by their full legal names, and the understat database referred to them by their commonly used names. We attempted to deal with this by changing the StatsBomb player names to the understat player names by changing any player who had both their first and last name appear in their full name in the StatsBomb database altered. This did not fully address the issue, however, as some players, such as Koke of Atletico Madrid and the Spanish national team, have only a one word nickname, and that nickname does not appear anywhere in their full name. This forced us to manually map each players name to their full name using a dictionary and iterate through said dictionary to utilize the full extent of our database. \n",
        "\n",
        "The feature selection technique we used was univariate selection. More specifically, we used the f_regression and SelectKBest functions of the sklearn.feature_selection library to choose between our two feature variables so as to obtain optimal results. This can be seen in section 3.4. Scaling was also done midway through Section 3.4."
      ]
    },
    {
      "cell_type": "markdown",
      "metadata": {
        "id": "TWTWhptYcVTz",
        "colab_type": "text"
      },
      "source": [
        "### 3.2. Data Exploration\n",
        "\n"
      ]
    },
    {
      "cell_type": "code",
      "metadata": {
        "id": "OjndXPeyIj__",
        "colab_type": "code",
        "outputId": "2888493f-b4f1-46ca-c370-46e4f3e3e124",
        "colab": {
          "base_uri": "https://localhost:8080/",
          "height": 357
        }
      },
      "source": [
        "import pandas as pd\n",
        "df = pd.read_csv(\"https://raw.githubusercontent.com/mghosh13/Soccer-Project/master/res/FinalMergedData.csv\")\n",
        "df.head()"
      ],
      "execution_count": 0,
      "outputs": [
        {
          "output_type": "execute_result",
          "data": {
            "text/html": [
              "<div>\n",
              "<style scoped>\n",
              "    .dataframe tbody tr th:only-of-type {\n",
              "        vertical-align: middle;\n",
              "    }\n",
              "\n",
              "    .dataframe tbody tr th {\n",
              "        vertical-align: top;\n",
              "    }\n",
              "\n",
              "    .dataframe thead th {\n",
              "        text-align: right;\n",
              "    }\n",
              "</style>\n",
              "<table border=\"1\" class=\"dataframe\">\n",
              "  <thead>\n",
              "    <tr style=\"text-align: right;\">\n",
              "      <th></th>\n",
              "      <th>name</th>\n",
              "      <th>World Cup xG</th>\n",
              "      <th>World Cup goals</th>\n",
              "      <th>games</th>\n",
              "      <th>team_title</th>\n",
              "      <th>time</th>\n",
              "      <th>League</th>\n",
              "      <th>goals per 90 mins</th>\n",
              "      <th>npg per 90 mins</th>\n",
              "      <th>npxG per 90 mins</th>\n",
              "      <th>shots per 90 mins</th>\n",
              "      <th>xG per 90 mins</th>\n",
              "      <th>xGBuildup per 90 mins</th>\n",
              "      <th>xGChain per 90 mins</th>\n",
              "    </tr>\n",
              "  </thead>\n",
              "  <tbody>\n",
              "    <tr>\n",
              "      <th>0</th>\n",
              "      <td>Aaron Mooy</td>\n",
              "      <td>0.09</td>\n",
              "      <td>0</td>\n",
              "      <td>29.0</td>\n",
              "      <td>Huddersfield</td>\n",
              "      <td>2326.0</td>\n",
              "      <td>English Premier League</td>\n",
              "      <td>0.116079</td>\n",
              "      <td>0.077386</td>\n",
              "      <td>0.064198</td>\n",
              "      <td>1.663801</td>\n",
              "      <td>0.093650</td>\n",
              "      <td>0.134715</td>\n",
              "      <td>0.201850</td>\n",
              "    </tr>\n",
              "    <tr>\n",
              "      <th>1</th>\n",
              "      <td>Achraf Hakimi</td>\n",
              "      <td>0.06</td>\n",
              "      <td>0</td>\n",
              "      <td>21.0</td>\n",
              "      <td>Borussia Dortmund</td>\n",
              "      <td>1740.0</td>\n",
              "      <td>Bundesliga</td>\n",
              "      <td>0.103448</td>\n",
              "      <td>0.103448</td>\n",
              "      <td>0.087181</td>\n",
              "      <td>1.034483</td>\n",
              "      <td>0.087181</td>\n",
              "      <td>0.434539</td>\n",
              "      <td>0.564247</td>\n",
              "    </tr>\n",
              "    <tr>\n",
              "      <th>2</th>\n",
              "      <td>Adem Ljajic</td>\n",
              "      <td>0.06</td>\n",
              "      <td>0</td>\n",
              "      <td>1.0</td>\n",
              "      <td>Torino</td>\n",
              "      <td>27.0</td>\n",
              "      <td>Serie A</td>\n",
              "      <td>0.000000</td>\n",
              "      <td>0.000000</td>\n",
              "      <td>0.223172</td>\n",
              "      <td>6.666667</td>\n",
              "      <td>0.223172</td>\n",
              "      <td>0.367131</td>\n",
              "      <td>0.590303</td>\n",
              "    </tr>\n",
              "    <tr>\n",
              "      <th>3</th>\n",
              "      <td>Adnan Januzaj</td>\n",
              "      <td>0.16</td>\n",
              "      <td>1</td>\n",
              "      <td>20.0</td>\n",
              "      <td>Real Sociedad</td>\n",
              "      <td>1243.0</td>\n",
              "      <td>La Liga</td>\n",
              "      <td>0.072405</td>\n",
              "      <td>0.072405</td>\n",
              "      <td>0.187870</td>\n",
              "      <td>2.316975</td>\n",
              "      <td>0.187870</td>\n",
              "      <td>0.144926</td>\n",
              "      <td>0.414385</td>\n",
              "    </tr>\n",
              "    <tr>\n",
              "      <th>4</th>\n",
              "      <td>Adrien Silva</td>\n",
              "      <td>0.06</td>\n",
              "      <td>0</td>\n",
              "      <td>2.0</td>\n",
              "      <td>Leicester</td>\n",
              "      <td>86.0</td>\n",
              "      <td>English Premier League</td>\n",
              "      <td>0.000000</td>\n",
              "      <td>0.000000</td>\n",
              "      <td>0.000000</td>\n",
              "      <td>0.000000</td>\n",
              "      <td>0.000000</td>\n",
              "      <td>0.121696</td>\n",
              "      <td>0.121696</td>\n",
              "    </tr>\n",
              "  </tbody>\n",
              "</table>\n",
              "</div>"
            ],
            "text/plain": [
              "            name  World Cup xG  ...  xGBuildup per 90 mins  xGChain per 90 mins\n",
              "0     Aaron Mooy          0.09  ...               0.134715             0.201850\n",
              "1  Achraf Hakimi          0.06  ...               0.434539             0.564247\n",
              "2    Adem Ljajic          0.06  ...               0.367131             0.590303\n",
              "3  Adnan Januzaj          0.16  ...               0.144926             0.414385\n",
              "4   Adrien Silva          0.06  ...               0.121696             0.121696\n",
              "\n",
              "[5 rows x 14 columns]"
            ]
          },
          "metadata": {
            "tags": []
          },
          "execution_count": 2
        }
      ]
    },
    {
      "cell_type": "code",
      "metadata": {
        "id": "ZrCnnRgKJBoQ",
        "colab_type": "code",
        "colab": {}
      },
      "source": [
        "df.corr()"
      ],
      "execution_count": 0,
      "outputs": []
    },
    {
      "cell_type": "code",
      "metadata": {
        "id": "7Lzf5Fj-Itzq",
        "colab_type": "code",
        "outputId": "b4eec1fc-7da3-4010-9ac9-54e4458b2c69",
        "colab": {
          "base_uri": "https://localhost:8080/",
          "height": 312
        }
      },
      "source": [
        "import seaborn as sns\n",
        "seabornScatter = sns.scatterplot(x=\"World Cup xG\", y=\"npxG per 90 mins\", hue = \"shots per 90 mins\", size = \"shots per 90 mins\", palette = \"Greens\", data=df)\n",
        "seabornScatter.set_title(\"Expected Goals in the World Cup and how it Compares to npxG in Club Competition\")"
      ],
      "execution_count": 0,
      "outputs": [
        {
          "output_type": "execute_result",
          "data": {
            "text/plain": [
              "Text(0.5, 1.0, 'Expected Goals in the World Cup and how it Compares to npxG in Club Competition')"
            ]
          },
          "metadata": {
            "tags": []
          },
          "execution_count": 3
        },
        {
          "output_type": "display_data",
          "data": {
            "image/png": "[encoded data removed]",
            "text/plain": [
              "<Figure size 432x288 with 1 Axes>"
            ]
          },
          "metadata": {
            "tags": []
          }
        }
      ]
    },
    {
      "cell_type": "code",
      "metadata": {
        "id": "Pc3HXvG_I23T",
        "colab_type": "code",
        "outputId": "a115d59d-b044-4871-f399-4dc08fd2a4e7",
        "colab": {
          "base_uri": "https://localhost:8080/",
          "height": 312
        }
      },
      "source": [
        "seabornLine = sns.lineplot(x=\"shots per 90 mins\", y = \"World Cup xG\", data = df)\n",
        "seabornLine.set_title(\"The Relationship Between Shooting for your Club and Expected Goals for your Country\")"
      ],
      "execution_count": 0,
      "outputs": [
        {
          "output_type": "execute_result",
          "data": {
            "text/plain": [
              "Text(0.5, 1.0, 'The Relationship Between Shooting for your Club and Expected Goals for your Country')"
            ]
          },
          "metadata": {
            "tags": []
          },
          "execution_count": 4
        },
        {
          "output_type": "display_data",
          "data": {
            "image/png": "[encoded data removed]",
            "text/plain": [
              "<Figure size 432x288 with 1 Axes>"
            ]
          },
          "metadata": {
            "tags": []
          }
        }
      ]
    },
    {
      "cell_type": "code",
      "metadata": {
        "id": "bAFCgLlfI6A1",
        "colab_type": "code",
        "outputId": "838b1ae7-2cd5-43d0-deba-90b3a49f87f5",
        "colab": {
          "base_uri": "https://localhost:8080/",
          "height": 530
        }
      },
      "source": [
        "from matplotlib import pyplot as plt\n",
        "plt.figure(figsize = (15, 8))\n",
        "seabornScatter2 = sns.scatterplot(x = \"goals per 90 mins\", y = \"World Cup goals\", hue = \"xG per 90 mins\",  size = \"World Cup xG\", data = df, palette = \"Reds\", legend = \"brief\", )\n",
        "seabornScatter2.set_title(\"Comparing Club Goals and Expected Goals to World Cup Goals and Expected Goals\")"
      ],
      "execution_count": 0,
      "outputs": [
        {
          "output_type": "execute_result",
          "data": {
            "text/plain": [
              "Text(0.5, 1.0, 'Comparing Club Goals and Expected Goals to World Cup Goals and Expected Goals')"
            ]
          },
          "metadata": {
            "tags": []
          },
          "execution_count": 5
        },
        {
          "output_type": "display_data",
          "data": {
            "image/png": "[encoded data removed]",
            "text/plain": [
              "<Figure size 1080x576 with 1 Axes>"
            ]
          },
          "metadata": {
            "tags": []
          }
        }
      ]
    },
    {
      "cell_type": "markdown",
      "metadata": {
        "id": "bBnYwBKth4jG",
        "colab_type": "text"
      },
      "source": [
        "[Non-Penalty Expected Goals-World Cup xG Scatterplot](https://drive.google.com/file/d/1y0hjNB4r3iOa9n6t-GOyWz3hYzpTsSKD/view?usp=sharing)\n",
        "\n",
        "This graph provides useful information because it is a visualization of our strongest correlation across the datasets. Between Non-Penalty Expected Goals per 90 mins in club competition and Expected Goals in the World Cup we found a correlation of nearly 47%. Not only that, but the relationship between shots per 90 mins and World Cup Expected Goals was over 38%, justifying its use as a size and hue modifier. What this visualization shows us is a more detailed profile of the relationship between these variables. Loosely, as World Cup xG increases so does non-penalty xG in club competition, with the number of shots taken in club play increasing roughly with both as well.\n",
        "\n",
        "[Shots-World Cup xG Lineplot](https://drive.google.com/file/d/1VLQFEZ31kwQoUyq2KVxkKOD8aP4V3-ay/view?usp=sharing)\n",
        "\n",
        "This graph's purpose is to show in a more isolated visualization how shots per 90 min in Club Competition relates to expected goals in the World Cup. The relationship that it illuminates is a rough correlation between the two where there is a reasonable volume of datapoints. As outliers appear (specifically around 5 shots per 90) we begin to see variation in this trend, but it largely holds true.\n",
        "\n",
        "[Comparing Goals and xG Across Club and International Competition](https://drive.google.com/file/d/1K47i5HH-Ab6HqiO85ElEzleSUbcUhKO9/view?usp=sharing)\n",
        "\n",
        "This graph is truly demonstrative of the objective of this project. On the x and y axes is shows World Cup goals graphed to Club goals, but using hue and size gradients it shows how these variables interact with World Cup xG and club xG. Essentially, we find only a loose correlation between the two axes. However, as World Cup xG increases, so do club competition goals. The correlation is loose, however, it tends to support our hypothesis."
      ]
    },
    {
      "cell_type": "markdown",
      "metadata": {
        "id": "dDyNdbskcVT0",
        "colab_type": "text"
      },
      "source": [
        "### 3.3. Model Construction\n"
      ]
    },
    {
      "cell_type": "code",
      "metadata": {
        "id": "R0e7Jl54rWwV",
        "colab_type": "code",
        "outputId": "3809cc83-cce9-4b2f-e50f-b98438470747",
        "colab": {
          "base_uri": "https://localhost:8080/",
          "height": 173
        }
      },
      "source": [
        "# Paired t test\n",
        "\n",
        "print(\"H0: Null hypotheses states that there is no statistically significant difference in the mean between expected goals in the World Cup and the non-penalty expected goals\")\n",
        "\n",
        "print(\"Ha: There is a statistically significant difference between the means of WC xG and npxG per 90 mins.\")\n",
        "\n",
        "from scipy import stats as stats\n",
        "stat, pval = stats.ttest_rel(a = df[\"World Cup xG\"], b = df[\"npxG per 90 mins\"])\n",
        "print(\"\\nTest Statistic:\", stat)\n",
        "print(\"P value:\", pval)\n",
        "\n",
        "print(\"\\nP < .05, therefore we fall within the rejection area.\")\n",
        "print(\"We reject the null hypothesis and take Ha, which states that there is a difference between the means of WC xG and npxG per 90 mins \")"
      ],
      "execution_count": 0,
      "outputs": [
        {
          "output_type": "stream",
          "text": [
            "H0: Null hypotheses states that there is no statistically significant difference in the mean between expected goals in the World Cup and the non-penalty expected goals\n",
            "Ha: There is a statistically significant difference between the means of WC xG and npxG per 90 mins.\n",
            "\n",
            "Test Statistic: 8.287496460390757\n",
            "P value: 6.828672771529788e-15\n",
            "\n",
            "P < .05, therefore we fall within the rejection area.\n",
            "We reject the null hypothesis and take Ha, which states that there is a difference between the means of WC xG and npxG per 90 mins \n"
          ],
          "name": "stdout"
        }
      ]
    },
    {
      "cell_type": "markdown",
      "metadata": {
        "id": "HwgnKAgKh3hr",
        "colab_type": "text"
      },
      "source": [
        "See 3.4 for training, validation, and testing splits, cross-validation, and machine learning algoritm application and training. We deemed it more intuitive to keep algorithm performance with algorithm execution in our code base."
      ]
    },
    {
      "cell_type": "markdown",
      "metadata": {
        "id": "46VZXaXTcVT1",
        "colab_type": "text"
      },
      "source": [
        "### 3.4. Model Evaluation\n"
      ]
    },
    {
      "cell_type": "code",
      "metadata": {
        "id": "7vnIFVcmGqEj",
        "colab_type": "code",
        "outputId": "3dc9b78a-ca16-4554-d057-a1bf7a1fb4a2",
        "colab": {
          "base_uri": "https://localhost:8080/",
          "height": 34
        }
      },
      "source": [
        "import pandas as pd\n",
        "df = pd.read_csv(\"https://raw.githubusercontent.com/mghosh13/Soccer-Project/master/res/FinalMergedData.csv\")\n",
        "\n",
        "df.corr()\n",
        "df.shape\n",
        "\n",
        "from scipy import stats\n",
        "features = df[\"World Cup xG\"]\n",
        "target = df[\"npxG per 90 mins\"]\n",
        "\n",
        "r, p = stats.pearsonr(features, target)\n",
        "print(\"Correlation Coefficient:\" , r , \"p-value:\" , p)\n",
        "\n",
        "from sklearn.metrics import r2_score\n",
        "from sklearn.metrics import mean_squared_error\n",
        "\n",
        "# function that runs each of the models we utilize over our data\n",
        "def run_regression(X_train, X_test, y_train, y_test, estimators, ):\n",
        "  for name, estimator in estimators.items():\n",
        "    print(name + \":\")\n",
        "    model = estimator.fit(X=X_train, y=y_train)\n",
        "    print(\"\\tR-squared value for training set: \" , r2_score(y_train, model.predict(X_train)))\n",
        "    print(\"\\tR-squared value for testing set: \" , r2_score(y_test, model.predict(X_test)))\n",
        "    print(\"\\tMean squared error for training set:\", mean_squared_error(y_train, model.predict(X_train)))\n",
        "    print(\"\\tMean squared error for testing set:\", mean_squared_error(y_test, model.predict(X_test)))"
      ],
      "execution_count": 0,
      "outputs": [
        {
          "output_type": "stream",
          "text": [
            "Correlation Coefficient: 0.4687353157349127 p-value: 2.805894598065374e-15\n"
          ],
          "name": "stdout"
        }
      ]
    },
    {
      "cell_type": "code",
      "metadata": {
        "id": "eXMurfYQHigW",
        "colab_type": "code",
        "outputId": "f1d15988-e4a8-4dbd-bd5f-6ea51ac671d1",
        "colab": {
          "base_uri": "https://localhost:8080/",
          "height": 102
        }
      },
      "source": [
        "#Multiple Linear Regression: using multiple features\n",
        "from sklearn.linear_model import LinearRegression\n",
        "from sklearn.model_selection import train_test_split\n",
        "from sklearn.metrics import r2_score\n",
        "from sklearn.metrics import mean_squared_error\n",
        "\n",
        "\n",
        "#Uses expected Goals and goals from World Cup as the feature and shots per 90 mins from League data as target\n",
        "features = df[[\"World Cup xG\", \"World Cup goals\"]]\n",
        "target = df[\"npxG per 90 mins\"]\n",
        "\n",
        "\n",
        "X_train, X_test, y_train, y_test = train_test_split(features, target, random_state = 3000)\n",
        "run_regression(X_train, X_test, y_train, y_test, {\"Linear Regression\": LinearRegression()})"
      ],
      "execution_count": 0,
      "outputs": [
        {
          "output_type": "stream",
          "text": [
            "Linear Regression:\n",
            "\tR-squared value for training set:  0.22091213831652667\n",
            "\tR-squared value for testing set:  0.15975395098448575\n",
            "\tMean squared error for training set: 0.02735491302283904\n",
            "\tMean squared error for testing set: 0.038747467461148155\n"
          ],
          "name": "stdout"
        }
      ]
    },
    {
      "cell_type": "code",
      "metadata": {
        "id": "gl_s2FpPHeLr",
        "colab_type": "code",
        "colab": {}
      },
      "source": [
        "from sklearn.linear_model import LinearRegression\n",
        "from sklearn.linear_model import Ridge\n",
        "from sklearn.linear_model import Lasso\n",
        "from sklearn.neighbors import KNeighborsRegressor\n",
        "from sklearn.svm import SVR\n",
        "\n",
        "estimators = {\"Linear Regression\" : LinearRegression(), \"Ridge\" : Ridge(), \"Lasso\" : Lasso(), \"k-Nearest Neighbor\" : \n",
        "              KNeighborsRegressor(), \"Support Vector Machine\" : SVR(gamma = \"scale\")}"
      ],
      "execution_count": 0,
      "outputs": []
    },
    {
      "cell_type": "code",
      "metadata": {
        "id": "saul7fMqHmXo",
        "colab_type": "code",
        "outputId": "7993ad25-c980-44c3-9c4e-035684179f3a",
        "colab": {
          "base_uri": "https://localhost:8080/",
          "height": 442
        }
      },
      "source": [
        "#Uses Unscaled data to perform 5 different regression models and calculates r2 score and mean squared error\n",
        "from sklearn.model_selection import train_test_split\n",
        "from sklearn.metrics import r2_score\n",
        "from sklearn.metrics import mean_squared_error\n",
        "\n",
        "#Uses expected Goals and goals from World Cup as the feature and shots per 90 mins from League data as target\n",
        "features = df[[\"World Cup goals\", \"World Cup xG\"]]\n",
        "target = df[\"npxG per 90 mins\"]\n",
        "X_train, X_test, y_train, y_test = train_test_split(features, target, random_state = 3000)\n",
        " \n",
        "#Compare the results of the five different regression algorithms\n",
        "run_regression(X_train, X_test, y_train, y_test, estimators)"
      ],
      "execution_count": 0,
      "outputs": [
        {
          "output_type": "stream",
          "text": [
            "Linear Regression:\n",
            "\tR-squared value for training set:  0.22091213831652667\n",
            "\tR-squared value for testing set:  0.15975395098448575\n",
            "\tMean squared error for training set: 0.02735491302283904\n",
            "\tMean squared error for testing set: 0.038747467461148155\n",
            "Ridge:\n",
            "\tR-squared value for training set:  0.22064757786908085\n",
            "\tR-squared value for testing set:  0.1630300836872608\n",
            "\tMean squared error for training set: 0.027364202126655295\n",
            "\tMean squared error for testing set: 0.0385963904695361\n",
            "Lasso:\n",
            "\tR-squared value for training set:  0.0\n",
            "\tR-squared value for testing set:  -0.031604338367153595\n",
            "\tMean squared error for training set: 0.03511146093808962\n",
            "\tMean squared error for testing set: 0.04757184586645109\n",
            "k-Nearest Neighbor:\n",
            "\tR-squared value for training set:  0.41296916049710153\n",
            "\tR-squared value for testing set:  -0.1703308271252575\n",
            "\tMean squared error for training set: 0.020611510390659976\n",
            "\tMean squared error for testing set: 0.05396913879683977\n",
            "Support Vector Machine:\n",
            "\tR-squared value for training set:  0.3359517946355529\n",
            "\tR-squared value for testing set:  -0.000676767161974734\n",
            "\tMean squared error for training set: 0.0233157026236623\n",
            "\tMean squared error for testing set: 0.04614563855452253\n"
          ],
          "name": "stdout"
        }
      ]
    },
    {
      "cell_type": "code",
      "metadata": {
        "id": "qX3f3_hhHqUS",
        "colab_type": "code",
        "outputId": "d329016c-951f-4268-c97f-d641c152b7c6",
        "colab": {
          "base_uri": "https://localhost:8080/",
          "height": 442
        }
      },
      "source": [
        "#Preprocess data: \n",
        "#Scale the features data\n",
        "from sklearn.preprocessing import MinMaxScaler\n",
        "from sklearn.model_selection import train_test_split\n",
        "from sklearn.metrics import r2_score\n",
        "from sklearn.metrics import mean_squared_error\n",
        "\n",
        "\n",
        "features = df[[\"World Cup xG\"]]\n",
        "target = df[\"npxG per 90 mins\"]\n",
        "X_train, X_test, y_train, y_test = train_test_split(features, target, random_state = 3000)\n",
        "\n",
        "\n",
        "scaler = MinMaxScaler()\n",
        "scaler.fit(X_train)\n",
        "X_train_scaled = scaler.transform(X_train)\n",
        "X_test_scaled = scaler.transform(X_test)\n",
        "    \n",
        "#Compare the results of the five different regression algorithms\n",
        "run_regression(X_train_scaled, X_test_scaled, y_train, y_test, estimators)"
      ],
      "execution_count": 0,
      "outputs": [
        {
          "output_type": "stream",
          "text": [
            "Linear Regression:\n",
            "\tR-squared value for training set:  0.216509035961701\n",
            "\tR-squared value for testing set:  0.19809919575423107\n",
            "\tMean squared error for training set: 0.02750951237917691\n",
            "\tMean squared error for testing set: 0.03697919836217851\n",
            "Ridge:\n",
            "\tR-squared value for training set:  0.21022608670104148\n",
            "\tR-squared value for testing set:  0.17847095981046868\n",
            "\tMean squared error for training set: 0.027730115906718558\n",
            "\tMean squared error for testing set: 0.03788434327115103\n",
            "Lasso:\n",
            "\tR-squared value for training set:  0.0\n",
            "\tR-squared value for testing set:  -0.031604338367153595\n",
            "\tMean squared error for training set: 0.03511146093808962\n",
            "\tMean squared error for testing set: 0.04757184586645109\n",
            "k-Nearest Neighbor:\n",
            "\tR-squared value for training set:  0.41122519490722564\n",
            "\tR-squared value for testing set:  0.012167453228316805\n",
            "\tMean squared error for training set: 0.020672743570346274\n",
            "\tMean squared error for testing set: 0.04555333465470682\n",
            "Support Vector Machine:\n",
            "\tR-squared value for training set:  0.2560110648733851\n",
            "\tR-squared value for testing set:  0.21846514562022967\n",
            "\tMean squared error for training set: 0.026122538434069028\n",
            "\tMean squared error for testing set: 0.03604003419630977\n"
          ],
          "name": "stdout"
        }
      ]
    },
    {
      "cell_type": "code",
      "metadata": {
        "id": "QgHJxwmlHtye",
        "colab_type": "code",
        "outputId": "ec317bd8-1e92-4bc4-eedd-5c1fbf4c7636",
        "colab": {
          "base_uri": "https://localhost:8080/",
          "height": 918
        }
      },
      "source": [
        "#Now we use Univariate Feature Selection to determine the feature with the higher relationship with our target data\n",
        "#This is Simple Linear Regression because we choose to use only 1 feature\n",
        "from sklearn.model_selection import train_test_split\n",
        "from sklearn.metrics import r2_score\n",
        "from sklearn.metrics import mean_squared_error\n",
        "\n",
        "from sklearn.feature_selection import SelectKBest\n",
        "from sklearn.feature_selection import f_regression\n",
        "\n",
        "features = df[[\"World Cup xG\", \"World Cup goals\"]]\n",
        "target = df[\"npxG per 90 mins\"]\n",
        "\n",
        "#Transform the features data to only include the best features\n",
        "X_train, X_test, y_train, y_test = train_test_split(features, target, random_state=3000)\n",
        "select = SelectKBest(score_func = f_regression, k = 1)\n",
        "select.fit(X_train, y_train)\n",
        "X_train_selected = select.transform(X_train)\n",
        "X_test_selected = select.transform(X_test)\n",
        "\n",
        "print(\"Original results:\")\n",
        "run_regression(X_train, X_test, y_train, y_test, estimators)\n",
        "\n",
        "print(\"\\nWith feature selection:\")\n",
        "run_regression(X_train_selected, X_test_selected, y_train, y_test, estimators)"
      ],
      "execution_count": 0,
      "outputs": [
        {
          "output_type": "stream",
          "text": [
            "Original results:\n",
            "Linear Regression:\n",
            "\tR-squared value for training set:  0.22091213831652667\n",
            "\tR-squared value for testing set:  0.15975395098448575\n",
            "\tMean squared error for training set: 0.02735491302283904\n",
            "\tMean squared error for testing set: 0.038747467461148155\n",
            "Ridge:\n",
            "\tR-squared value for training set:  0.22064757786908074\n",
            "\tR-squared value for testing set:  0.1630300836872608\n",
            "\tMean squared error for training set: 0.0273642021266553\n",
            "\tMean squared error for testing set: 0.0385963904695361\n",
            "Lasso:\n",
            "\tR-squared value for training set:  0.0\n",
            "\tR-squared value for testing set:  -0.031604338367153595\n",
            "\tMean squared error for training set: 0.03511146093808962\n",
            "\tMean squared error for testing set: 0.04757184586645109\n",
            "k-Nearest Neighbor:\n",
            "\tR-squared value for training set:  0.41296916049710153\n",
            "\tR-squared value for testing set:  -0.1703308271252575\n",
            "\tMean squared error for training set: 0.020611510390659976\n",
            "\tMean squared error for testing set: 0.05396913879683977\n",
            "Support Vector Machine:\n",
            "\tR-squared value for training set:  0.3359517946355529\n",
            "\tR-squared value for testing set:  -0.000676767161974734\n",
            "\tMean squared error for training set: 0.0233157026236623\n",
            "\tMean squared error for testing set: 0.04614563855452253\n",
            "\n",
            "With feature selection:\n",
            "Linear Regression:\n",
            "\tR-squared value for training set:  0.216509035961701\n",
            "\tR-squared value for testing set:  0.1980991957542313\n",
            "\tMean squared error for training set: 0.02750951237917691\n",
            "\tMean squared error for testing set: 0.0369791983621785\n",
            "Ridge:\n",
            "\tR-squared value for training set:  0.21637187330354712\n",
            "\tR-squared value for testing set:  0.19570329507416528\n",
            "\tMean squared error for training set: 0.027514328360490847\n",
            "\tMean squared error for testing set: 0.03708968395595162\n",
            "Lasso:\n",
            "\tR-squared value for training set:  0.0\n",
            "\tR-squared value for testing set:  -0.031604338367153595\n",
            "\tMean squared error for training set: 0.03511146093808962\n",
            "\tMean squared error for testing set: 0.04757184586645109\n",
            "k-Nearest Neighbor:\n",
            "\tR-squared value for training set:  0.4084312528334364\n",
            "\tR-squared value for testing set:  0.011154738219644633\n",
            "\tMean squared error for training set: 0.02077084295833341\n",
            "\tMean squared error for testing set: 0.04560003542990465\n",
            "Support Vector Machine:\n",
            "\tR-squared value for training set:  0.2560110648733861\n",
            "\tR-squared value for testing set:  0.2184651456202309\n",
            "\tMean squared error for training set: 0.026122538434068997\n",
            "\tMean squared error for testing set: 0.03604003419630972\n"
          ],
          "name": "stdout"
        }
      ]
    },
    {
      "cell_type": "markdown",
      "metadata": {
        "id": "cXrawv3rtkDS",
        "colab_type": "text"
      },
      "source": [
        "In the above model performance tests, we began by running a Simple Regression on our training and testing sets, and analyzing its performance using an R-squared test and a Mean squared error analysis. We first did this in the form of Multiple Linear Regression, using both of our features to best predict our non-penalty expected goals in club competition. Our results for this phase, a 0.21 and 0.16 values for our R-squared values on training and testing sets respectively, indicate a weak yet present correlation between our features and target data. Mean squared error scores of 0.027 and 0.039 each also indicate that the model is finding the line of best fit effectively, yet a higher testing set score indicates slight overfitting. \n",
        "\n",
        "We then moved on to test the rest of our regression algorithms this time using only World Cup xG to predict Club Competition npxG. Each of our decisions when selecting feature and target variables manually for our regressions was educated by correlation values found by calling the Pandas DataFrame method .corr() on our DataFrame. When we ran each of the Linear Regression, Ridge Regression, Lasso Regression, K-Nearest Neighbor Regression, and Support Vector Machine Regressions using these feature and target variables we got very different results. Lasso and K-Nearest Neighbor Regression returned very poor results, with the Lasso scoring 0.0 on our training set for R-squared and a negative value on our testing set. Essentially, it failed to accurately predict any target variables in our training set and had a negative relationship between its predictions and the target values in the testing set. This is obviously not optimal performance and the mean-squared error values it registered indicate minimal room for improvement via hyperparameter tuning. K-Nearest Neighbor registered different, yet equally problematic results, as it had an r-squared value of 0.40 on our training set, but a 0.03 score on our testing set. This, paired with a mean-squared error on the testing set of nearly twice the training set, indicate overfitting. Far better results came from the use of Linear Regression, Ridge Regression, and the Support Vector Machine Algorithms. Each of these algorithms had r-squared values over .20 for training, and the Support Vector Machine had an r-squared over .20 for its testing set as well. This indicates that going forward the Support Vector Machine is likely to provide us with optimal results, as its mean-squared error differential indicated slight overfitting, but nothing that could not be amended via hyperparameter tuning.\n",
        "\n",
        " Our results after scaling our data were practically identical for each algorithm, with the exception of Ridge Regression which saw a slight decrease in performance on its testing set.\n",
        "\n",
        " We then ran our algorithms one more time and used univariate selection to optimize which feature variable we were using so as to obtain the best results for our model. Using the f_regression function of the sklearn.feature_selection library univariate selection lead us to using just the World Cup xG feature, as opposed to the World Cup goal feature. This did not improve our model's performance, as we had manually selected xG as our feature variable previously. Though some improvement can be seen in the numerical results, this shows only the improvement between using both goals and xG to using just xG. \n",
        "\n",
        " On the issue of hypothesis testing, what we did to analyze our hypothesis was encouraging. However, it is important to understand that our methodology was in some ways flawed. Though we successfully reject the null hypothesis when conducting a paired t-test between World Cup xG and Club npxG per 90 mins, this comes with a caveat. T-tests compare averages, and so, despite positive results, we cannot truly say that World Cup xG and Club npxG per 90 mins have a statistically demonstrable relationship, because they are measured on a different scale. Club npxG/90 is a rate statistic, whereas World Cup xG is an aggregate statistic. Despite this flaw, we did produce a hypothesis, and we wanted to provide some form of hypothesis testing. We were limited to a paired t-test because our experiment is a between-subjects design that has both 1 and 2 independent variables at different points during the regression analysis. This means that the only alternative would be a repeated measures ANOVA, but this was not an option either because our independent variable is not categorical, but rather continuous.\n"
      ]
    },
    {
      "cell_type": "markdown",
      "metadata": {
        "id": "GvoCdwcvcVT1",
        "colab_type": "text"
      },
      "source": [
        "### 3.5. Model Optimization\n"
      ]
    },
    {
      "cell_type": "code",
      "metadata": {
        "id": "dYqxWDQGYYKu",
        "colab_type": "code",
        "outputId": "296f8038-9202-43c3-e49d-1ce18cb57213",
        "colab": {
          "base_uri": "https://localhost:8080/",
          "height": 85
        }
      },
      "source": [
        "#Grid search using SVR and modifying the C regulization parameter\n",
        "from sklearn.svm import SVR\n",
        "from sklearn.metrics import r2_score\n",
        "from sklearn.metrics import mean_squared_error\n",
        "from sklearn.model_selection import train_test_split\n",
        "\n",
        "features = df[[\"World Cup xG\"]]\n",
        "target = df[\"npxG per 90 mins\"]\n",
        "\n",
        "\n",
        "from sklearn.model_selection import GridSearchCV\n",
        "param_grid = {\"C\": [0.001, 0.01, 0.1, 1, 10, 100]}\n",
        "grid_search = GridSearchCV(SVR(gamma=\"scale\"), param_grid, cv = 5)\n",
        "X_train, X_test, y_train, y_test = train_test_split(features, target, random_state=3000)\n",
        "grid_search.fit(X=X_train, y=y_train)\n",
        "\n",
        "\n",
        "#the performance of the best found parameters on the test set\n",
        "print(\"Test set score: \", grid_search.score(X_test, y_test))\n",
        "print()\n",
        "\n",
        "#result of grid search\n",
        "print(\"Best parameters: \", grid_search.best_params_)\n",
        "print(\"Best cross-validation score: \", grid_search.best_score_)"
      ],
      "execution_count": 0,
      "outputs": [
        {
          "output_type": "stream",
          "text": [
            "Test set score:  0.1517813029099706\n",
            "\n",
            "Best parameters:  {'C': 100}\n",
            "Best cross-validation score:  0.14731644796073814\n"
          ],
          "name": "stdout"
        }
      ]
    },
    {
      "cell_type": "markdown",
      "metadata": {
        "id": "BVpJZqmCYJiZ",
        "colab_type": "text"
      },
      "source": [
        "Because we found that SVM (a.k.a. SVR) was our best performing algorithm, we engaged in hyperparameter tuning for the algorithm using grid-search. We did this because we saw that our mean-squared error values indicated slight overfitting. This optimizes the C regularization parameter, thus effecting how the data is scaled before it is processed. After applying grid search, we saw a slight drop off in our training r-squared value, but a correspondingly small decrease in the difference between our mean-squared error values, indicating a slight decrease in overfitting."
      ]
    },
    {
      "cell_type": "markdown",
      "metadata": {
        "id": "2_Ff_HZucVT2",
        "colab_type": "text"
      },
      "source": [
        "### 3.6. Model Testing\n"
      ]
    },
    {
      "cell_type": "code",
      "metadata": {
        "id": "NiYKxnxpYxie",
        "colab_type": "code",
        "outputId": "ec535c70-fb2c-4812-8933-cabe6cf77811",
        "colab": {
          "base_uri": "https://localhost:8080/",
          "height": 139
        }
      },
      "source": [
        "from sklearn.svm import SVR\n",
        "from sklearn.metrics import r2_score\n",
        "from sklearn.metrics import mean_squared_error\n",
        "from sklearn.model_selection import train_test_split\n",
        "\n",
        "features = df[[\"World Cup xG\"]]\n",
        "target = df[\"npxG per 90 mins\"]\n",
        "X_train, X_test, y_train, y_test = train_test_split(features, target, random_state=3000)\n",
        "\n",
        "model = SVR(C = 100).fit(X=X_train, y = y_train)\n",
        "\n",
        "print(\"\\tR-squared value for training set: \" , r2_score(y_train, model.predict(X_train)))\n",
        "print(\"\\tR-squared value for testing set: \" , r2_score(y_test, model.predict(X_test)))    \n",
        "print(\"\\tMean squared error for training set:\", mean_squared_error(y_train, model.predict(X_train)))\n",
        "print(\"\\tMean squared error for testing set:\", mean_squared_error(y_test, model.predict(X_test)))"
      ],
      "execution_count": 0,
      "outputs": [
        {
          "output_type": "stream",
          "text": [
            "\tR-squared value for training set:  0.2405647779927329\n",
            "\tR-squared value for testing set:  0.21232487500937547\n",
            "\tMean squared error for training set: 0.026664880132517575\n",
            "\tMean squared error for testing set: 0.03632318927448655\n"
          ],
          "name": "stdout"
        },
        {
          "output_type": "stream",
          "text": [
            "/usr/local/lib/python3.6/dist-packages/sklearn/svm/base.py:193: FutureWarning: The default value of gamma will change from 'auto' to 'scale' in version 0.22 to account better for unscaled features. Set gamma explicitly to 'auto' or 'scale' to avoid this warning.\n",
            "  \"avoid this warning.\", FutureWarning)\n"
          ],
          "name": "stderr"
        }
      ]
    },
    {
      "cell_type": "markdown",
      "metadata": {
        "id": "o8Pe0EI3cVT3",
        "colab_type": "text"
      },
      "source": [
        "<a id=\"4\"></a>\n",
        "<hr style=\"height:2px; border:none; color:black; background-color:black;\">"
      ]
    },
    {
      "cell_type": "markdown",
      "metadata": {
        "id": "OY3mnDVpcVT4",
        "colab_type": "text"
      },
      "source": [
        "## 4. DISCUSSION\n"
      ]
    },
    {
      "cell_type": "markdown",
      "metadata": {
        "id": "xujEjoUctzXh",
        "colab_type": "text"
      },
      "source": [
        "In analyzing our data we first used our DataFrame to test correlation between various different variables. We used this information to educate our decision on which variables to use when visualizing our data. These two factors were then taken into account so as to pick a target variable. Then, feature selection was used to select features, and we in turn ran our regressions. The regressions we ran are as follows: Linear Regression, Ridge Regression, K-Nearest Neighbors Regression, Lasso Regression, and SVR Regression. Once we ran our regressions we engaged in hyper parameter tuning so as to optimize our algorithms. We then re ran our tuned algorithm and obtained our results.\n",
        "\n",
        "As stated above, in sections 3.4, 3.5, and 3.6 the Linear Regression, Ridge Regression, K-Nearest Neighbors, Lasso Regression, and SVR algorithms were compared to one another. The SVR algorithm revealed the best results because it had both the highest r-squared value for training and testing and was roughly tied for joint-lowest difference in mean-squared error between the training and testing sets. This algorithm should be used for our predictive model. \n",
        "\n",
        "As mentioned in our analysis of our hypothesis tests, we did find a significant relationship between World Cup xG and Club Competition npxG per 90. If we were to ignore the inherent flaw in this methodology, it would show us that it is in fact the case that there is a weak relationship between World Cup xG and Club Competition npxG per 90. Essentially: players who produce high expected goal values at international tournaments may be expected to produce high non-penalty expected goals for their club teams, but it is nowhere near a sure thing. This is logical because, though the best players in a World Cup are more likely to be the best players for their clubs, international tournaments have small sample sizes and therefore high variance. This would seem to refute the logic of such teams as Real Madrid and Napoli, who purchased James Rodriguez and Hirving Lozano, respectively, after they had standout World Cup performances. That is not to say, however, that these purchases were unequivocally mistakes. It is to say, rather, that perhaps greater thought and caution should go into the purchase of international tournament stars going forward.\n",
        "\n",
        "In future work, there are a couple of goals that we have set our for ourselves. Primarily, we would like to have a larger dataset to work with. Not only is it difficult to get significant results with a dataset of just over 200 players, but it is also difficult to analyze player performance using only xG and goals as feature variables. Player performance at the World Cup is not just characterized by goal scoring prowess, and having possession based statistics for the World Cup like xGChain and xGBuildup (which we may have had the capacity to calculate given more time) would have made our analysis far more robust. Having fewer features limited the benefits that univariate feature selection may have afforded us. Minutes played would also make our analysis superior, as we may have put our World Cup statistics on a per 90 basis as well. More tournaments (like the 2016 European Championships and the 2014 World Cup) may also have improved our dataset, as well as more club seasons."
      ]
    },
    {
      "cell_type": "markdown",
      "metadata": {
        "id": "SkKqZfjTcVT5",
        "colab_type": "text"
      },
      "source": [
        "<a id=\"5\"></a>\n",
        "<hr style=\"height:2px; border:none; color:black; background-color:black;\">"
      ]
    }
  ]
}